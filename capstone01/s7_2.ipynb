{
 "cells": [
  {
   "cell_type": "markdown",
   "metadata": {
    "toc-hr-collapsed": false
   },
   "source": [
    "# $\\S$7.2 Exploring the data - telling a story"
   ]
  },
  {
   "cell_type": "markdown",
   "metadata": {},
   "source": [
    "This notebook will explore and visualize some of the data from retrosheet.org for Major League Baseball during the 2010-2018 seasons."
   ]
  },
  {
   "cell_type": "markdown",
   "metadata": {},
   "source": [
    "From **https://www.retrosheet.org/notice.txt**\n",
    "<pre>\n",
    "Recipients of Retrosheet data are free to make any desired use of\n",
    "the information, including (but not limited to) selling it,\n",
    "giving it away, or producing a commercial product based upon the\n",
    "data.  Retrosheet has one requirement for any such transfer of\n",
    "data or product development, which is that the following\n",
    "statement must appear prominently:\n",
    "\n",
    "     The information used here was obtained free of\n",
    "     charge from and is copyrighted by Retrosheet.  Interested\n",
    "     parties may contact Retrosheet at \"www.retrosheet.org\".\n",
    "\n",
    "Retrosheet makes no guarantees of accuracy for the information \n",
    "that is supplied. Much effort is expended to make our website \n",
    "as correct as possible, but Retrosheet shall not be held \n",
    "responsible for any consequences arising from the use the \n",
    "material presented here. All information is subject to corrections \n",
    "as additional data are received. We are grateful to anyone who\n",
    "discovers discrepancies and we appreciate learning of the details.\n",
    "</pre>"
   ]
  },
  {
   "cell_type": "markdown",
   "metadata": {},
   "source": [
    "The data used here was previously put together in the project for $\\S$5.4 into a `.pickle` file. This file is loaded below."
   ]
  },
  {
   "cell_type": "markdown",
   "metadata": {},
   "source": [
    "## Loading packages to be used"
   ]
  },
  {
   "cell_type": "code",
   "execution_count": 1,
   "metadata": {},
   "outputs": [],
   "source": [
    "import matplotlib.pyplot as plt\n",
    "import seaborn as sns\n",
    "import numpy as np\n",
    "import pandas as pd\n",
    "import itertools as itr\n",
    "import collections as coll\n",
    "import re\n",
    "import os\n",
    "import subprocess\n",
    "import pickle\n",
    "import datetime as dt"
   ]
  },
  {
   "cell_type": "markdown",
   "metadata": {
    "toc-hr-collapsed": false
   },
   "source": [
    "## Loading the data fram from the pickle file"
   ]
  },
  {
   "cell_type": "markdown",
   "metadata": {},
   "source": [
    "Here the base directory is created. This will allow for sub-directories for the retrosheet data and the resulting processed data to be stored."
   ]
  },
  {
   "cell_type": "code",
   "execution_count": 2,
   "metadata": {},
   "outputs": [],
   "source": [
    "basedir = os.getcwd()\n",
    "#print(basedir)"
   ]
  },
  {
   "cell_type": "code",
   "execution_count": 3,
   "metadata": {},
   "outputs": [
    {
     "name": "stdout",
     "output_type": "stream",
     "text": [
      "Wall time: 1.77 s\n"
     ]
    }
   ],
   "source": [
    "%%time\n",
    "os.chdir(basedir)\n",
    "os.chdir('data')\n",
    "\n",
    "data = pd.read_pickle('retro_mlb_dataframe.pickle')"
   ]
  },
  {
   "cell_type": "markdown",
   "metadata": {
    "toc-hr-collapsed": false
   },
   "source": [
    "## Describing the data generally."
   ]
  },
  {
   "cell_type": "code",
   "execution_count": 4,
   "metadata": {},
   "outputs": [
    {
     "data": {
      "text/plain": [
       "(1717976, 51)"
      ]
     },
     "execution_count": 4,
     "metadata": {},
     "output_type": "execute_result"
    }
   ],
   "source": [
    "data.shape"
   ]
  },
  {
   "cell_type": "markdown",
   "metadata": {},
   "source": [
    "Between 2010 and 2018 there were 1717976 events in baseball games. There are 51 columns of information here as described using the `info()` method."
   ]
  },
  {
   "cell_type": "code",
   "execution_count": 5,
   "metadata": {},
   "outputs": [
    {
     "name": "stdout",
     "output_type": "stream",
     "text": [
      "<class 'pandas.core.frame.DataFrame'>\n",
      "RangeIndex: 1717976 entries, 0 to 1717975\n",
      "Data columns (total 51 columns):\n",
      "gameid              object\n",
      "awayteam            category\n",
      "inning              int64\n",
      "teamatbat           category\n",
      "outs                int64\n",
      "balls               int64\n",
      "strikes             int64\n",
      "pitches             object\n",
      "scoreaway           int64\n",
      "scorehome           int64\n",
      "batter              object\n",
      "batterhand          category\n",
      "resbatter           object\n",
      "resbatterhand       category\n",
      "pitcher             object\n",
      "pitcherhand         category\n",
      "respitcher          object\n",
      "respitcherhand      category\n",
      "runner01            object\n",
      "runner02            object\n",
      "runner03            object\n",
      "eventtext           object\n",
      "leadoffflag         bool\n",
      "pinchhitflag        bool\n",
      "batterpos           category\n",
      "lineupposition      category\n",
      "eventtype           object\n",
      "plateappoverflag    bool\n",
      "abflag              bool\n",
      "hitvalue            int64\n",
      "SHflag              bool\n",
      "SFflag              bool\n",
      "outsresult          int64\n",
      "doubleplayflag      bool\n",
      "tripleplayflag      bool\n",
      "rbiresult           int64\n",
      "wildflag            bool\n",
      "passedflag          bool\n",
      "fieldedby           int64\n",
      "battedballtype      category\n",
      "buntflag            bool\n",
      "foulflag            bool\n",
      "hitlocation         category\n",
      "numberrors          int64\n",
      "destbatter          object\n",
      "dest01              object\n",
      "dest02              object\n",
      "dest03              object\n",
      "newgame             bool\n",
      "endgame             bool\n",
      "league              object\n",
      "dtypes: bool(14), category(10), int64(11), object(16)\n",
      "memory usage: 393.2+ MB\n"
     ]
    }
   ],
   "source": [
    "data.info()"
   ]
  },
  {
   "cell_type": "markdown",
   "metadata": {},
   "source": [
    "### Adding columns to the dataframe."
   ]
  },
  {
   "cell_type": "markdown",
   "metadata": {},
   "source": [
    "Some information that we can derive from the dataframe are the date, whether the home team wins and pitch sequences. Adding the date information first allows for more easily accessing sections of the dataframe according to the datetime information."
   ]
  },
  {
   "cell_type": "markdown",
   "metadata": {},
   "source": [
    "$\\circ$ **date**"
   ]
  },
  {
   "cell_type": "markdown",
   "metadata": {
    "toc-hr-collapsed": false
   },
   "source": [
    "This information will be extracted from the `gameid` column."
   ]
  },
  {
   "cell_type": "code",
   "execution_count": 6,
   "metadata": {},
   "outputs": [
    {
     "data": {
      "text/plain": [
       "1622"
      ]
     },
     "execution_count": 6,
     "metadata": {},
     "output_type": "execute_result"
    }
   ],
   "source": [
    "data['date'] = pd.to_datetime( data.gameid.str.slice(start=3,stop=-1), format='%Y%m%d')\n",
    "data.date.unique().size"
   ]
  },
  {
   "cell_type": "markdown",
   "metadata": {},
   "source": [
    "### Other columns to add:"
   ]
  },
  {
   "cell_type": "markdown",
   "metadata": {},
   "source": [
    "> `hometeam`<br>\n",
    "> `runsonplay`<br>\n",
    "> `endscore_home` and `endscore_away`<br>\n",
    "> `endscore_diff`<br>\n",
    "> `homewin` <br>"
   ]
  },
  {
   "cell_type": "markdown",
   "metadata": {},
   "source": [
    "$\\circ$ **hometeam**"
   ]
  },
  {
   "cell_type": "markdown",
   "metadata": {},
   "source": [
    "<code>hometeam</code> will be the three letter designation of the hometeam<br>                                      "
   ]
  },
  {
   "cell_type": "code",
   "execution_count": 7,
   "metadata": {},
   "outputs": [],
   "source": [
    "data['hometeam'] = data.gameid.str.slice(stop=3)"
   ]
  },
  {
   "cell_type": "markdown",
   "metadata": {},
   "source": [
    "$\\circ$ **runsonplay**\n",
    "\n",
    "`runsonplay` is the number of runs scored on a given play.\n",
    "\n",
    "This is calculated by adding together the number of runners (including batter) that make it to home plate."
   ]
  },
  {
   "cell_type": "code",
   "execution_count": 8,
   "metadata": {},
   "outputs": [
    {
     "data": {
      "text/plain": [
       "0    1569201\n",
       "1     115749\n",
       "2      26081\n",
       "3       5939\n",
       "4       1006\n",
       "Name: runsonplay, dtype: int64"
      ]
     },
     "execution_count": 8,
     "metadata": {},
     "output_type": "execute_result"
    }
   ],
   "source": [
    "data['runsonplay'] = (data.destbatter>3)*1 + (data.dest01>3)*1 + (data.dest02>3)*1 + (data.dest03>3)*1\n",
    "data.runsonplay.value_counts()"
   ]
  },
  {
   "cell_type": "markdown",
   "metadata": {},
   "source": [
    "$\\circ$ **Score at end of the play**"
   ]
  },
  {
   "cell_type": "markdown",
   "metadata": {},
   "source": [
    "<code>endscore_home</code> will be <code>scorehome + runsonplay</code> if <code>teamatbat==1</code><br>\n",
    "<code>endscore_away</code> will be <code>scoreaway + runsonplay</code> if <code>teamatbat==0</code><br>\n",
    "\n",
    "<code>scorediff_end</code> will be equal to <code>endscore_home - endscore_away</code> (i.e. diff at end of play)<br>"
   ]
  },
  {
   "cell_type": "code",
   "execution_count": 9,
   "metadata": {},
   "outputs": [],
   "source": [
    "data['endscore_away'] = (data.teamatbat == 0) * (data.runsonplay) + data.scoreaway\n",
    "data['endscore_home'] = (data.teamatbat == 1) * (data.runsonplay) + data.scorehome\n",
    "\n",
    "data['endscore_diff'] = data.endscore_home - data.endscore_away"
   ]
  },
  {
   "cell_type": "markdown",
   "metadata": {},
   "source": [
    "$\\circ$ **Number of wins by the home team.**"
   ]
  },
  {
   "cell_type": "markdown",
   "metadata": {},
   "source": [
    "<code>homewin</code> will be **boolean** T/F where `endscore_home > endscore_away` i.e. T = homewin                                       "
   ]
  },
  {
   "cell_type": "code",
   "execution_count": 10,
   "metadata": {},
   "outputs": [],
   "source": [
    "data['homewin'] = data.endscore_home > data.endscore_away"
   ]
  },
  {
   "cell_type": "markdown",
   "metadata": {},
   "source": [
    "## How is the difference in scores at the end of each game distributed?"
   ]
  },
  {
   "cell_type": "code",
   "execution_count": 11,
   "metadata": {},
   "outputs": [
    {
     "data": {
      "text/plain": [
       "1     6383\n",
       "2     4031\n",
       "3     3096\n",
       "4     2557\n",
       "5     1809\n",
       "6     1343\n",
       "7      898\n",
       "8      621\n",
       "9      404\n",
       "10     277\n",
       "11     179\n",
       "12     101\n",
       "13      73\n",
       "14      35\n",
       "15      22\n",
       "16      20\n",
       "17       7\n",
       "18       6\n",
       "19       2\n",
       "20       2\n",
       "21       1\n",
       "0        1\n",
       "Name: endscore_diff, dtype: int64"
      ]
     },
     "execution_count": 11,
     "metadata": {},
     "output_type": "execute_result"
    }
   ],
   "source": [
    "data[data.endgame==True].endscore_diff.abs().value_counts()"
   ]
  },
  {
   "cell_type": "markdown",
   "metadata": {},
   "source": [
    "As expected, there are very few ties (we actually would expect zero). The exception can be identified quickly which was a game between Pittsburg and Cincinatti on 2016-09-29."
   ]
  },
  {
   "cell_type": "code",
   "execution_count": 12,
   "metadata": {},
   "outputs": [
    {
     "data": {
      "text/html": [
       "<div>\n",
       "<style scoped>\n",
       "    .dataframe tbody tr th:only-of-type {\n",
       "        vertical-align: middle;\n",
       "    }\n",
       "\n",
       "    .dataframe tbody tr th {\n",
       "        vertical-align: top;\n",
       "    }\n",
       "\n",
       "    .dataframe thead th {\n",
       "        text-align: right;\n",
       "    }\n",
       "</style>\n",
       "<table border=\"1\" class=\"dataframe\">\n",
       "  <thead>\n",
       "    <tr style=\"text-align: right;\">\n",
       "      <th></th>\n",
       "      <th>date</th>\n",
       "      <th>hometeam</th>\n",
       "      <th>awayteam</th>\n",
       "      <th>scorehome</th>\n",
       "      <th>scoreaway</th>\n",
       "      <th>endscore_home</th>\n",
       "      <th>endscore_away</th>\n",
       "      <th>inning</th>\n",
       "      <th>teamatbat</th>\n",
       "      <th>rbiresult</th>\n",
       "    </tr>\n",
       "  </thead>\n",
       "  <tbody>\n",
       "    <tr>\n",
       "      <th>1284931</th>\n",
       "      <td>2016-09-29</td>\n",
       "      <td>PIT</td>\n",
       "      <td>CHN</td>\n",
       "      <td>1</td>\n",
       "      <td>1</td>\n",
       "      <td>1</td>\n",
       "      <td>1</td>\n",
       "      <td>6</td>\n",
       "      <td>0</td>\n",
       "      <td>0</td>\n",
       "    </tr>\n",
       "  </tbody>\n",
       "</table>\n",
       "</div>"
      ],
      "text/plain": [
       "              date hometeam awayteam  scorehome  scoreaway  endscore_home  \\\n",
       "1284931 2016-09-29      PIT      CHN          1          1              1   \n",
       "\n",
       "         endscore_away  inning teamatbat  rbiresult  \n",
       "1284931              1       6         0          0  "
      ]
     },
     "execution_count": 12,
     "metadata": {},
     "output_type": "execute_result"
    }
   ],
   "source": [
    "data[(data.endgame==True) & \n",
    "     (data.endscore_diff==0)].loc[:,['date','hometeam','awayteam','scorehome','scoreaway',\n",
    "                                       'endscore_home','endscore_away',\n",
    "                                       'inning','teamatbat', 'rbiresult']].sort_values(by='date')"
   ]
  },
  {
   "cell_type": "code",
   "execution_count": 13,
   "metadata": {},
   "outputs": [
    {
     "data": {
      "image/png": "[encoded data removed]",
      "text/plain": [
       "<Figure size 432x288 with 1 Axes>"
      ]
     },
     "metadata": {
      "needs_background": "light"
     },
     "output_type": "display_data"
    }
   ],
   "source": [
    "data[data.endgame==True].endscore_diff.abs().hist(bins=range(22),density=True)\n",
    "plt.xlabel('Final score difference')\n",
    "plt.ylabel('Percent (%)')\n",
    "plt.title('Distribution of Final Score Difference');"
   ]
  },
  {
   "cell_type": "markdown",
   "metadata": {},
   "source": [
    "This appears to be a distribution that could be either exponential in nature or possibly a Poisson distribution."
   ]
  },
  {
   "cell_type": "markdown",
   "metadata": {
    "toc-hr-collapsed": false
   },
   "source": [
    "## How many games were played by year?"
   ]
  },
  {
   "cell_type": "markdown",
   "metadata": {},
   "source": [
    "### The number of games by year."
   ]
  },
  {
   "cell_type": "code",
   "execution_count": 14,
   "metadata": {},
   "outputs": [
    {
     "data": {
      "text/plain": [
       "date\n",
       "2010    2430\n",
       "2011    2429\n",
       "2012    2430\n",
       "2013    2431\n",
       "2014    2430\n",
       "2015    2429\n",
       "2016    2428\n",
       "2017    2430\n",
       "2018    2431\n",
       "Name: date, dtype: int64"
      ]
     },
     "execution_count": 14,
     "metadata": {},
     "output_type": "execute_result"
    }
   ],
   "source": [
    "data[data.endgame==True].groupby(data.date.dt.year).date.count()"
   ]
  },
  {
   "cell_type": "markdown",
   "metadata": {},
   "source": [
    "**Comment:** The total each year should be $81\\times30=2430$ so there is some discrepancy here.\n",
    "\n",
    "The discrepancy is accounted for when we look back and see when extra games were played (i.e. to determine a wildcard team) or when a game is cancelled and not made up (i.e. because of weather).\n"
   ]
  },
  {
   "cell_type": "markdown",
   "metadata": {},
   "source": [
    "2010: No extra games</br>\n",
    "2011: cancelled: Washington Nationals v. LA Dodgers<br>\n",
    "2012: None<br>\n",
    "2013: Extra game: Tampa v. Texas Rangers<br>\n",
    "2014: None<br>\n",
    "2015: cancelled: Cleveland v. Detroit<br>\n",
    "2016: cancelled: Miami v. Braves, Cleveland v. Detroit. ended in tie: Cubs v. Pirates (net -2)<br>\n",
    "2017: None<br>\n",
    "2018: cancelled: Miami v. Pirates, two extra games involving Brewers, Cubs, Dodgers and Rockies (net +1)"
   ]
  },
  {
   "cell_type": "markdown",
   "metadata": {},
   "source": [
    "### Q. How many games were played by month each year?\n",
    "\n",
    "3=Mar, 4=April etc."
   ]
  },
  {
   "cell_type": "code",
   "execution_count": 15,
   "metadata": {},
   "outputs": [
    {
     "data": {
      "text/html": [
       "<div>\n",
       "<style scoped>\n",
       "    .dataframe tbody tr th:only-of-type {\n",
       "        vertical-align: middle;\n",
       "    }\n",
       "\n",
       "    .dataframe tbody tr th {\n",
       "        vertical-align: top;\n",
       "    }\n",
       "\n",
       "    .dataframe thead th {\n",
       "        text-align: right;\n",
       "    }\n",
       "</style>\n",
       "<table border=\"1\" class=\"dataframe\">\n",
       "  <thead>\n",
       "    <tr style=\"text-align: right;\">\n",
       "      <th>date</th>\n",
       "      <th>3</th>\n",
       "      <th>4</th>\n",
       "      <th>5</th>\n",
       "      <th>6</th>\n",
       "      <th>7</th>\n",
       "      <th>8</th>\n",
       "      <th>9</th>\n",
       "      <th>10</th>\n",
       "    </tr>\n",
       "    <tr>\n",
       "      <th>date</th>\n",
       "      <th></th>\n",
       "      <th></th>\n",
       "      <th></th>\n",
       "      <th></th>\n",
       "      <th></th>\n",
       "      <th></th>\n",
       "      <th></th>\n",
       "      <th></th>\n",
       "    </tr>\n",
       "  </thead>\n",
       "  <tbody>\n",
       "    <tr>\n",
       "      <th>2010</th>\n",
       "      <td>0</td>\n",
       "      <td>345</td>\n",
       "      <td>424</td>\n",
       "      <td>401</td>\n",
       "      <td>388</td>\n",
       "      <td>422</td>\n",
       "      <td>404</td>\n",
       "      <td>46</td>\n",
       "    </tr>\n",
       "    <tr>\n",
       "      <th>2011</th>\n",
       "      <td>6</td>\n",
       "      <td>392</td>\n",
       "      <td>420</td>\n",
       "      <td>400</td>\n",
       "      <td>395</td>\n",
       "      <td>420</td>\n",
       "      <td>396</td>\n",
       "      <td>0</td>\n",
       "    </tr>\n",
       "    <tr>\n",
       "      <th>2012</th>\n",
       "      <td>2</td>\n",
       "      <td>336</td>\n",
       "      <td>425</td>\n",
       "      <td>404</td>\n",
       "      <td>383</td>\n",
       "      <td>425</td>\n",
       "      <td>410</td>\n",
       "      <td>45</td>\n",
       "    </tr>\n",
       "    <tr>\n",
       "      <th>2013</th>\n",
       "      <td>1</td>\n",
       "      <td>392</td>\n",
       "      <td>418</td>\n",
       "      <td>407</td>\n",
       "      <td>386</td>\n",
       "      <td>421</td>\n",
       "      <td>406</td>\n",
       "      <td>0</td>\n",
       "    </tr>\n",
       "    <tr>\n",
       "      <th>2014</th>\n",
       "      <td>16</td>\n",
       "      <td>389</td>\n",
       "      <td>424</td>\n",
       "      <td>409</td>\n",
       "      <td>381</td>\n",
       "      <td>423</td>\n",
       "      <td>388</td>\n",
       "      <td>0</td>\n",
       "    </tr>\n",
       "    <tr>\n",
       "      <th>2015</th>\n",
       "      <td>0</td>\n",
       "      <td>327</td>\n",
       "      <td>428</td>\n",
       "      <td>407</td>\n",
       "      <td>377</td>\n",
       "      <td>420</td>\n",
       "      <td>413</td>\n",
       "      <td>57</td>\n",
       "    </tr>\n",
       "    <tr>\n",
       "      <th>2016</th>\n",
       "      <td>0</td>\n",
       "      <td>354</td>\n",
       "      <td>424</td>\n",
       "      <td>407</td>\n",
       "      <td>381</td>\n",
       "      <td>424</td>\n",
       "      <td>408</td>\n",
       "      <td>30</td>\n",
       "    </tr>\n",
       "    <tr>\n",
       "      <th>2017</th>\n",
       "      <td>0</td>\n",
       "      <td>369</td>\n",
       "      <td>421</td>\n",
       "      <td>408</td>\n",
       "      <td>376</td>\n",
       "      <td>425</td>\n",
       "      <td>416</td>\n",
       "      <td>15</td>\n",
       "    </tr>\n",
       "    <tr>\n",
       "      <th>2018</th>\n",
       "      <td>38</td>\n",
       "      <td>381</td>\n",
       "      <td>416</td>\n",
       "      <td>401</td>\n",
       "      <td>373</td>\n",
       "      <td>414</td>\n",
       "      <td>406</td>\n",
       "      <td>2</td>\n",
       "    </tr>\n",
       "  </tbody>\n",
       "</table>\n",
       "</div>"
      ],
      "text/plain": [
       "date  3    4    5    6    7    8    9   10\n",
       "date                                      \n",
       "2010   0  345  424  401  388  422  404  46\n",
       "2011   6  392  420  400  395  420  396   0\n",
       "2012   2  336  425  404  383  425  410  45\n",
       "2013   1  392  418  407  386  421  406   0\n",
       "2014  16  389  424  409  381  423  388   0\n",
       "2015   0  327  428  407  377  420  413  57\n",
       "2016   0  354  424  407  381  424  408  30\n",
       "2017   0  369  421  408  376  425  416  15\n",
       "2018  38  381  416  401  373  414  406   2"
      ]
     },
     "execution_count": 15,
     "metadata": {},
     "output_type": "execute_result"
    }
   ],
   "source": [
    "data[data.endgame==True].groupby([data.date.dt.year, data.date.dt.month]).date.count().unstack().fillna(0).astype('int64')"
   ]
  },
  {
   "cell_type": "markdown",
   "metadata": {},
   "source": [
    "There are fewer games in March and October as they mark the beginning and end of the seasons. \n",
    "\n",
    "In July there are typically fewer games because of the All-Star break."
   ]
  },
  {
   "cell_type": "markdown",
   "metadata": {},
   "source": [
    "### Q. And how many home games were played each year by league?\n",
    "\n",
    "Here we are counting by league according to which league the hometeam is in (contained in `data.league`)."
   ]
  },
  {
   "cell_type": "code",
   "execution_count": 16,
   "metadata": {},
   "outputs": [
    {
     "data": {
      "text/html": [
       "<div>\n",
       "<style scoped>\n",
       "    .dataframe tbody tr th:only-of-type {\n",
       "        vertical-align: middle;\n",
       "    }\n",
       "\n",
       "    .dataframe tbody tr th {\n",
       "        vertical-align: top;\n",
       "    }\n",
       "\n",
       "    .dataframe thead th {\n",
       "        text-align: right;\n",
       "    }\n",
       "</style>\n",
       "<table border=\"1\" class=\"dataframe\">\n",
       "  <thead>\n",
       "    <tr style=\"text-align: right;\">\n",
       "      <th>league</th>\n",
       "      <th>eva</th>\n",
       "      <th>evn</th>\n",
       "    </tr>\n",
       "    <tr>\n",
       "      <th>date</th>\n",
       "      <th></th>\n",
       "      <th></th>\n",
       "    </tr>\n",
       "  </thead>\n",
       "  <tbody>\n",
       "    <tr>\n",
       "      <th>2010</th>\n",
       "      <td>1134</td>\n",
       "      <td>1296</td>\n",
       "    </tr>\n",
       "    <tr>\n",
       "      <th>2011</th>\n",
       "      <td>1134</td>\n",
       "      <td>1295</td>\n",
       "    </tr>\n",
       "    <tr>\n",
       "      <th>2012</th>\n",
       "      <td>1134</td>\n",
       "      <td>1296</td>\n",
       "    </tr>\n",
       "    <tr>\n",
       "      <th>2013</th>\n",
       "      <td>1216</td>\n",
       "      <td>1215</td>\n",
       "    </tr>\n",
       "    <tr>\n",
       "      <th>2014</th>\n",
       "      <td>1215</td>\n",
       "      <td>1215</td>\n",
       "    </tr>\n",
       "    <tr>\n",
       "      <th>2015</th>\n",
       "      <td>1214</td>\n",
       "      <td>1215</td>\n",
       "    </tr>\n",
       "    <tr>\n",
       "      <th>2016</th>\n",
       "      <td>1214</td>\n",
       "      <td>1214</td>\n",
       "    </tr>\n",
       "    <tr>\n",
       "      <th>2017</th>\n",
       "      <td>1215</td>\n",
       "      <td>1215</td>\n",
       "    </tr>\n",
       "    <tr>\n",
       "      <th>2018</th>\n",
       "      <td>1215</td>\n",
       "      <td>1216</td>\n",
       "    </tr>\n",
       "  </tbody>\n",
       "</table>\n",
       "</div>"
      ],
      "text/plain": [
       "league   eva   evn\n",
       "date              \n",
       "2010    1134  1296\n",
       "2011    1134  1295\n",
       "2012    1134  1296\n",
       "2013    1216  1215\n",
       "2014    1215  1215\n",
       "2015    1214  1215\n",
       "2016    1214  1214\n",
       "2017    1215  1215\n",
       "2018    1215  1216"
      ]
     },
     "execution_count": 16,
     "metadata": {},
     "output_type": "execute_result"
    }
   ],
   "source": [
    "data[data.endgame==True].groupby([data.date.dt.year,data.league]).size().unstack()"
   ]
  },
  {
   "cell_type": "markdown",
   "metadata": {},
   "source": [
    "Aside from 2010-2012, the number of games per league is dividely fairly evenly. There is a discrepancy in the earlier years because of interleague play. In those years, there were 16 National League teams and only 14 American League teams which created the disparity (as a result the NL teams had more home games).\n",
    "\n",
    "In 2013, the Houston Astros switched from NL to AL (into the AL Central) balancing out the number of teams in each league."
   ]
  },
  {
   "cell_type": "markdown",
   "metadata": {},
   "source": [
    "### Q. When were more short and long games played?"
   ]
  },
  {
   "cell_type": "markdown",
   "metadata": {},
   "source": [
    "**Short games:** Number of games ending early (before 9 innings) by month and year."
   ]
  },
  {
   "cell_type": "code",
   "execution_count": 17,
   "metadata": {},
   "outputs": [
    {
     "data": {
      "text/html": [
       "<div>\n",
       "<style scoped>\n",
       "    .dataframe tbody tr th:only-of-type {\n",
       "        vertical-align: middle;\n",
       "    }\n",
       "\n",
       "    .dataframe tbody tr th {\n",
       "        vertical-align: top;\n",
       "    }\n",
       "\n",
       "    .dataframe thead th {\n",
       "        text-align: right;\n",
       "    }\n",
       "</style>\n",
       "<table border=\"1\" class=\"dataframe\">\n",
       "  <thead>\n",
       "    <tr style=\"text-align: right;\">\n",
       "      <th>date</th>\n",
       "      <th>4</th>\n",
       "      <th>5</th>\n",
       "      <th>6</th>\n",
       "      <th>7</th>\n",
       "      <th>8</th>\n",
       "      <th>9</th>\n",
       "      <th>10</th>\n",
       "    </tr>\n",
       "    <tr>\n",
       "      <th>date</th>\n",
       "      <th></th>\n",
       "      <th></th>\n",
       "      <th></th>\n",
       "      <th></th>\n",
       "      <th></th>\n",
       "      <th></th>\n",
       "      <th></th>\n",
       "    </tr>\n",
       "  </thead>\n",
       "  <tbody>\n",
       "    <tr>\n",
       "      <th>2010</th>\n",
       "      <td>2</td>\n",
       "      <td>1</td>\n",
       "      <td>1</td>\n",
       "      <td>1</td>\n",
       "      <td>1</td>\n",
       "      <td>0</td>\n",
       "      <td>1</td>\n",
       "    </tr>\n",
       "    <tr>\n",
       "      <th>2011</th>\n",
       "      <td>1</td>\n",
       "      <td>3</td>\n",
       "      <td>1</td>\n",
       "      <td>0</td>\n",
       "      <td>1</td>\n",
       "      <td>1</td>\n",
       "      <td>0</td>\n",
       "    </tr>\n",
       "    <tr>\n",
       "      <th>2012</th>\n",
       "      <td>1</td>\n",
       "      <td>0</td>\n",
       "      <td>0</td>\n",
       "      <td>3</td>\n",
       "      <td>2</td>\n",
       "      <td>1</td>\n",
       "      <td>0</td>\n",
       "    </tr>\n",
       "    <tr>\n",
       "      <th>2013</th>\n",
       "      <td>2</td>\n",
       "      <td>0</td>\n",
       "      <td>1</td>\n",
       "      <td>1</td>\n",
       "      <td>2</td>\n",
       "      <td>2</td>\n",
       "      <td>0</td>\n",
       "    </tr>\n",
       "    <tr>\n",
       "      <th>2014</th>\n",
       "      <td>0</td>\n",
       "      <td>0</td>\n",
       "      <td>1</td>\n",
       "      <td>2</td>\n",
       "      <td>1</td>\n",
       "      <td>0</td>\n",
       "      <td>0</td>\n",
       "    </tr>\n",
       "    <tr>\n",
       "      <th>2015</th>\n",
       "      <td>1</td>\n",
       "      <td>2</td>\n",
       "      <td>1</td>\n",
       "      <td>0</td>\n",
       "      <td>0</td>\n",
       "      <td>0</td>\n",
       "      <td>0</td>\n",
       "    </tr>\n",
       "    <tr>\n",
       "      <th>2016</th>\n",
       "      <td>1</td>\n",
       "      <td>0</td>\n",
       "      <td>0</td>\n",
       "      <td>1</td>\n",
       "      <td>1</td>\n",
       "      <td>4</td>\n",
       "      <td>0</td>\n",
       "    </tr>\n",
       "    <tr>\n",
       "      <th>2017</th>\n",
       "      <td>0</td>\n",
       "      <td>0</td>\n",
       "      <td>0</td>\n",
       "      <td>1</td>\n",
       "      <td>0</td>\n",
       "      <td>1</td>\n",
       "      <td>0</td>\n",
       "    </tr>\n",
       "    <tr>\n",
       "      <th>2018</th>\n",
       "      <td>0</td>\n",
       "      <td>0</td>\n",
       "      <td>0</td>\n",
       "      <td>1</td>\n",
       "      <td>1</td>\n",
       "      <td>3</td>\n",
       "      <td>0</td>\n",
       "    </tr>\n",
       "  </tbody>\n",
       "</table>\n",
       "</div>"
      ],
      "text/plain": [
       "date  4   5   6   7   8   9   10\n",
       "date                            \n",
       "2010   2   1   1   1   1   0   1\n",
       "2011   1   3   1   0   1   1   0\n",
       "2012   1   0   0   3   2   1   0\n",
       "2013   2   0   1   1   2   2   0\n",
       "2014   0   0   1   2   1   0   0\n",
       "2015   1   2   1   0   0   0   0\n",
       "2016   1   0   0   1   1   4   0\n",
       "2017   0   0   0   1   0   1   0\n",
       "2018   0   0   0   1   1   3   0"
      ]
     },
     "execution_count": 17,
     "metadata": {},
     "output_type": "execute_result"
    }
   ],
   "source": [
    "data[(data.endgame==True) \n",
    "     & (data.inning < 9)\n",
    "    ].groupby([data.date.dt.year, data.date.dt.month]).date.count().unstack().fillna(0).astype('int64')"
   ]
  },
  {
   "cell_type": "markdown",
   "metadata": {},
   "source": [
    "There does not seem to be any special pattern to when more or less short games are played. This is not a surprise since these are typically caused by weather which is a random event."
   ]
  },
  {
   "cell_type": "markdown",
   "metadata": {},
   "source": [
    "**Long games:** Number of extra inning games (longer than 9 innings) by month and year and league."
   ]
  },
  {
   "cell_type": "code",
   "execution_count": 18,
   "metadata": {},
   "outputs": [
    {
     "data": {
      "text/html": [
       "<div>\n",
       "<style scoped>\n",
       "    .dataframe tbody tr th:only-of-type {\n",
       "        vertical-align: middle;\n",
       "    }\n",
       "\n",
       "    .dataframe tbody tr th {\n",
       "        vertical-align: top;\n",
       "    }\n",
       "\n",
       "    .dataframe thead tr th {\n",
       "        text-align: left;\n",
       "    }\n",
       "\n",
       "    .dataframe thead tr:last-of-type th {\n",
       "        text-align: right;\n",
       "    }\n",
       "</style>\n",
       "<table border=\"1\" class=\"dataframe\">\n",
       "  <thead>\n",
       "    <tr>\n",
       "      <th>date</th>\n",
       "      <th colspan=\"2\" halign=\"left\">3</th>\n",
       "      <th colspan=\"2\" halign=\"left\">4</th>\n",
       "      <th colspan=\"2\" halign=\"left\">5</th>\n",
       "      <th colspan=\"2\" halign=\"left\">6</th>\n",
       "      <th colspan=\"2\" halign=\"left\">7</th>\n",
       "      <th colspan=\"2\" halign=\"left\">8</th>\n",
       "      <th colspan=\"2\" halign=\"left\">9</th>\n",
       "      <th colspan=\"2\" halign=\"left\">10</th>\n",
       "    </tr>\n",
       "    <tr>\n",
       "      <th>league</th>\n",
       "      <th>eva</th>\n",
       "      <th>evn</th>\n",
       "      <th>eva</th>\n",
       "      <th>evn</th>\n",
       "      <th>eva</th>\n",
       "      <th>evn</th>\n",
       "      <th>eva</th>\n",
       "      <th>evn</th>\n",
       "      <th>eva</th>\n",
       "      <th>evn</th>\n",
       "      <th>eva</th>\n",
       "      <th>evn</th>\n",
       "      <th>eva</th>\n",
       "      <th>evn</th>\n",
       "      <th>eva</th>\n",
       "      <th>evn</th>\n",
       "    </tr>\n",
       "    <tr>\n",
       "      <th>date</th>\n",
       "      <th></th>\n",
       "      <th></th>\n",
       "      <th></th>\n",
       "      <th></th>\n",
       "      <th></th>\n",
       "      <th></th>\n",
       "      <th></th>\n",
       "      <th></th>\n",
       "      <th></th>\n",
       "      <th></th>\n",
       "      <th></th>\n",
       "      <th></th>\n",
       "      <th></th>\n",
       "      <th></th>\n",
       "      <th></th>\n",
       "      <th></th>\n",
       "    </tr>\n",
       "  </thead>\n",
       "  <tbody>\n",
       "    <tr>\n",
       "      <th>2010</th>\n",
       "      <td>0</td>\n",
       "      <td>0</td>\n",
       "      <td>15</td>\n",
       "      <td>18</td>\n",
       "      <td>16</td>\n",
       "      <td>19</td>\n",
       "      <td>8</td>\n",
       "      <td>22</td>\n",
       "      <td>21</td>\n",
       "      <td>23</td>\n",
       "      <td>18</td>\n",
       "      <td>21</td>\n",
       "      <td>20</td>\n",
       "      <td>11</td>\n",
       "      <td>4</td>\n",
       "      <td>4</td>\n",
       "    </tr>\n",
       "    <tr>\n",
       "      <th>2011</th>\n",
       "      <td>0</td>\n",
       "      <td>1</td>\n",
       "      <td>22</td>\n",
       "      <td>24</td>\n",
       "      <td>27</td>\n",
       "      <td>21</td>\n",
       "      <td>14</td>\n",
       "      <td>24</td>\n",
       "      <td>8</td>\n",
       "      <td>20</td>\n",
       "      <td>16</td>\n",
       "      <td>21</td>\n",
       "      <td>14</td>\n",
       "      <td>25</td>\n",
       "      <td>0</td>\n",
       "      <td>0</td>\n",
       "    </tr>\n",
       "    <tr>\n",
       "      <th>2012</th>\n",
       "      <td>1</td>\n",
       "      <td>0</td>\n",
       "      <td>13</td>\n",
       "      <td>16</td>\n",
       "      <td>11</td>\n",
       "      <td>19</td>\n",
       "      <td>15</td>\n",
       "      <td>12</td>\n",
       "      <td>13</td>\n",
       "      <td>21</td>\n",
       "      <td>18</td>\n",
       "      <td>13</td>\n",
       "      <td>17</td>\n",
       "      <td>18</td>\n",
       "      <td>3</td>\n",
       "      <td>2</td>\n",
       "    </tr>\n",
       "    <tr>\n",
       "      <th>2013</th>\n",
       "      <td>0</td>\n",
       "      <td>0</td>\n",
       "      <td>17</td>\n",
       "      <td>20</td>\n",
       "      <td>22</td>\n",
       "      <td>23</td>\n",
       "      <td>21</td>\n",
       "      <td>27</td>\n",
       "      <td>17</td>\n",
       "      <td>20</td>\n",
       "      <td>19</td>\n",
       "      <td>21</td>\n",
       "      <td>18</td>\n",
       "      <td>18</td>\n",
       "      <td>0</td>\n",
       "      <td>0</td>\n",
       "    </tr>\n",
       "    <tr>\n",
       "      <th>2014</th>\n",
       "      <td>0</td>\n",
       "      <td>2</td>\n",
       "      <td>17</td>\n",
       "      <td>23</td>\n",
       "      <td>20</td>\n",
       "      <td>24</td>\n",
       "      <td>16</td>\n",
       "      <td>19</td>\n",
       "      <td>16</td>\n",
       "      <td>16</td>\n",
       "      <td>23</td>\n",
       "      <td>26</td>\n",
       "      <td>17</td>\n",
       "      <td>13</td>\n",
       "      <td>0</td>\n",
       "      <td>0</td>\n",
       "    </tr>\n",
       "    <tr>\n",
       "      <th>2015</th>\n",
       "      <td>0</td>\n",
       "      <td>0</td>\n",
       "      <td>13</td>\n",
       "      <td>16</td>\n",
       "      <td>14</td>\n",
       "      <td>19</td>\n",
       "      <td>14</td>\n",
       "      <td>21</td>\n",
       "      <td>19</td>\n",
       "      <td>16</td>\n",
       "      <td>25</td>\n",
       "      <td>18</td>\n",
       "      <td>18</td>\n",
       "      <td>17</td>\n",
       "      <td>1</td>\n",
       "      <td>1</td>\n",
       "    </tr>\n",
       "    <tr>\n",
       "      <th>2016</th>\n",
       "      <td>0</td>\n",
       "      <td>0</td>\n",
       "      <td>11</td>\n",
       "      <td>16</td>\n",
       "      <td>14</td>\n",
       "      <td>15</td>\n",
       "      <td>18</td>\n",
       "      <td>16</td>\n",
       "      <td>15</td>\n",
       "      <td>15</td>\n",
       "      <td>13</td>\n",
       "      <td>21</td>\n",
       "      <td>11</td>\n",
       "      <td>16</td>\n",
       "      <td>2</td>\n",
       "      <td>2</td>\n",
       "    </tr>\n",
       "    <tr>\n",
       "      <th>2017</th>\n",
       "      <td>0</td>\n",
       "      <td>0</td>\n",
       "      <td>18</td>\n",
       "      <td>18</td>\n",
       "      <td>14</td>\n",
       "      <td>23</td>\n",
       "      <td>12</td>\n",
       "      <td>17</td>\n",
       "      <td>20</td>\n",
       "      <td>14</td>\n",
       "      <td>10</td>\n",
       "      <td>10</td>\n",
       "      <td>13</td>\n",
       "      <td>13</td>\n",
       "      <td>0</td>\n",
       "      <td>0</td>\n",
       "    </tr>\n",
       "    <tr>\n",
       "      <th>2018</th>\n",
       "      <td>3</td>\n",
       "      <td>4</td>\n",
       "      <td>16</td>\n",
       "      <td>20</td>\n",
       "      <td>20</td>\n",
       "      <td>14</td>\n",
       "      <td>15</td>\n",
       "      <td>17</td>\n",
       "      <td>18</td>\n",
       "      <td>24</td>\n",
       "      <td>11</td>\n",
       "      <td>23</td>\n",
       "      <td>12</td>\n",
       "      <td>19</td>\n",
       "      <td>0</td>\n",
       "      <td>0</td>\n",
       "    </tr>\n",
       "  </tbody>\n",
       "</table>\n",
       "</div>"
      ],
      "text/plain": [
       "date    3       4       5       6       7       8       9       10    \n",
       "league eva evn eva evn eva evn eva evn eva evn eva evn eva evn eva evn\n",
       "date                                                                  \n",
       "2010     0   0  15  18  16  19   8  22  21  23  18  21  20  11   4   4\n",
       "2011     0   1  22  24  27  21  14  24   8  20  16  21  14  25   0   0\n",
       "2012     1   0  13  16  11  19  15  12  13  21  18  13  17  18   3   2\n",
       "2013     0   0  17  20  22  23  21  27  17  20  19  21  18  18   0   0\n",
       "2014     0   2  17  23  20  24  16  19  16  16  23  26  17  13   0   0\n",
       "2015     0   0  13  16  14  19  14  21  19  16  25  18  18  17   1   1\n",
       "2016     0   0  11  16  14  15  18  16  15  15  13  21  11  16   2   2\n",
       "2017     0   0  18  18  14  23  12  17  20  14  10  10  13  13   0   0\n",
       "2018     3   4  16  20  20  14  15  17  18  24  11  23  12  19   0   0"
      ]
     },
     "execution_count": 18,
     "metadata": {},
     "output_type": "execute_result"
    }
   ],
   "source": [
    "data[(data.endgame==True) \n",
    "     & (data.inning > 9)\n",
    "    ].groupby([data.date.dt.year, data.league, data.date.dt.month]).date.count().unstack().unstack().fillna(0).astype('int64')"
   ]
  },
  {
   "cell_type": "markdown",
   "metadata": {},
   "source": [
    "It seems that there might be more games going into extra innings when games are hosted by National League teams."
   ]
  },
  {
   "cell_type": "markdown",
   "metadata": {},
   "source": [
    "**Long games by league:** Extra inning by league (i.e. determined by home field) and year.\n",
    "\n",
    "Here we only look at 2013 and after since during these seasons the number of games per league was approximately the same in each of these years."
   ]
  },
  {
   "cell_type": "code",
   "execution_count": 19,
   "metadata": {},
   "outputs": [
    {
     "data": {
      "text/html": [
       "<div>\n",
       "<style scoped>\n",
       "    .dataframe tbody tr th:only-of-type {\n",
       "        vertical-align: middle;\n",
       "    }\n",
       "\n",
       "    .dataframe tbody tr th {\n",
       "        vertical-align: top;\n",
       "    }\n",
       "\n",
       "    .dataframe thead th {\n",
       "        text-align: right;\n",
       "    }\n",
       "</style>\n",
       "<table border=\"1\" class=\"dataframe\">\n",
       "  <thead>\n",
       "    <tr style=\"text-align: right;\">\n",
       "      <th>league</th>\n",
       "      <th>eva</th>\n",
       "      <th>evn</th>\n",
       "    </tr>\n",
       "    <tr>\n",
       "      <th>date</th>\n",
       "      <th></th>\n",
       "      <th></th>\n",
       "    </tr>\n",
       "  </thead>\n",
       "  <tbody>\n",
       "    <tr>\n",
       "      <th>2013</th>\n",
       "      <td>114</td>\n",
       "      <td>129</td>\n",
       "    </tr>\n",
       "    <tr>\n",
       "      <th>2014</th>\n",
       "      <td>109</td>\n",
       "      <td>123</td>\n",
       "    </tr>\n",
       "    <tr>\n",
       "      <th>2015</th>\n",
       "      <td>104</td>\n",
       "      <td>108</td>\n",
       "    </tr>\n",
       "    <tr>\n",
       "      <th>2016</th>\n",
       "      <td>84</td>\n",
       "      <td>101</td>\n",
       "    </tr>\n",
       "    <tr>\n",
       "      <th>2017</th>\n",
       "      <td>87</td>\n",
       "      <td>95</td>\n",
       "    </tr>\n",
       "    <tr>\n",
       "      <th>2018</th>\n",
       "      <td>95</td>\n",
       "      <td>121</td>\n",
       "    </tr>\n",
       "  </tbody>\n",
       "</table>\n",
       "</div>"
      ],
      "text/plain": [
       "league  eva  evn\n",
       "date            \n",
       "2013    114  129\n",
       "2014    109  123\n",
       "2015    104  108\n",
       "2016     84  101\n",
       "2017     87   95\n",
       "2018     95  121"
      ]
     },
     "execution_count": 19,
     "metadata": {},
     "output_type": "execute_result"
    }
   ],
   "source": [
    "data[(data.endgame == True) & (data.inning > 9) & (data.date > '2013')].groupby([data.date.dt.year, data.league]).date.count().unstack()"
   ]
  },
  {
   "cell_type": "markdown",
   "metadata": {
    "toc-hr-collapsed": false
   },
   "source": [
    "## How the types of hits are distributed."
   ]
  },
  {
   "cell_type": "markdown",
   "metadata": {},
   "source": [
    "### The number and types of hits.\n",
    "\n",
    "1 = single, 2 = double, 3 = triple and 4 = homerun."
   ]
  },
  {
   "cell_type": "code",
   "execution_count": 20,
   "metadata": {},
   "outputs": [
    {
     "data": {
      "text/plain": [
       "0    1339788\n",
       "1     250604\n",
       "2      74663\n",
       "3       7766\n",
       "4      45155\n",
       "Name: hitvalue, dtype: int64"
      ]
     },
     "execution_count": 20,
     "metadata": {},
     "output_type": "execute_result"
    }
   ],
   "source": [
    "data.hitvalue.value_counts().sort_index()"
   ]
  },
  {
   "cell_type": "code",
   "execution_count": 21,
   "metadata": {},
   "outputs": [
    {
     "data": {
      "text/plain": [
       "0    0.779864\n",
       "1    0.145872\n",
       "2    0.043460\n",
       "3    0.004520\n",
       "4    0.026284\n",
       "Name: hitvalue, dtype: float64"
      ]
     },
     "execution_count": 21,
     "metadata": {},
     "output_type": "execute_result"
    }
   ],
   "source": [
    "data.hitvalue.value_counts().sort_index()/data.hitvalue.value_counts().sum()"
   ]
  },
  {
   "cell_type": "markdown",
   "metadata": {},
   "source": [
    "Triples are easily the most rare of the hits. Doubles happen about 1.5 times as many times as home runs. Singles happen a little more than three times as much as doubles or about five times as often as home runs."
   ]
  },
  {
   "cell_type": "markdown",
   "metadata": {},
   "source": [
    "### Types of hits by league. Comparing after 2012 season."
   ]
  },
  {
   "cell_type": "code",
   "execution_count": 22,
   "metadata": {},
   "outputs": [
    {
     "data": {
      "text/html": [
       "<div>\n",
       "<style scoped>\n",
       "    .dataframe tbody tr th:only-of-type {\n",
       "        vertical-align: middle;\n",
       "    }\n",
       "\n",
       "    .dataframe tbody tr th {\n",
       "        vertical-align: top;\n",
       "    }\n",
       "\n",
       "    .dataframe thead th {\n",
       "        text-align: right;\n",
       "    }\n",
       "</style>\n",
       "<table border=\"1\" class=\"dataframe\">\n",
       "  <thead>\n",
       "    <tr style=\"text-align: right;\">\n",
       "      <th>hitvalue</th>\n",
       "      <th>0</th>\n",
       "      <th>1</th>\n",
       "      <th>2</th>\n",
       "      <th>3</th>\n",
       "      <th>4</th>\n",
       "    </tr>\n",
       "    <tr>\n",
       "      <th>league</th>\n",
       "      <th></th>\n",
       "      <th></th>\n",
       "      <th></th>\n",
       "      <th></th>\n",
       "      <th></th>\n",
       "    </tr>\n",
       "  </thead>\n",
       "  <tbody>\n",
       "    <tr>\n",
       "      <th>eva</th>\n",
       "      <td>444560</td>\n",
       "      <td>82983</td>\n",
       "      <td>25050</td>\n",
       "      <td>2310</td>\n",
       "      <td>16365</td>\n",
       "    </tr>\n",
       "    <tr>\n",
       "      <th>evn</th>\n",
       "      <td>447639</td>\n",
       "      <td>82673</td>\n",
       "      <td>24467</td>\n",
       "      <td>2765</td>\n",
       "      <td>14691</td>\n",
       "    </tr>\n",
       "  </tbody>\n",
       "</table>\n",
       "</div>"
      ],
      "text/plain": [
       "hitvalue       0      1      2     3      4\n",
       "league                                     \n",
       "eva       444560  82983  25050  2310  16365\n",
       "evn       447639  82673  24467  2765  14691"
      ]
     },
     "execution_count": 22,
     "metadata": {},
     "output_type": "execute_result"
    }
   ],
   "source": [
    "data[data.date > '2012-12'].groupby('league').hitvalue.value_counts().unstack()"
   ]
  },
  {
   "cell_type": "markdown",
   "metadata": {},
   "source": [
    "The seasons 2010-2012 are removed as there are more home games for the NL during those years.\n",
    "\n",
    "In the other years, it appears that singles and double appear to be about the same. There do appear to be more triples in NL games and more home runs in AL games."
   ]
  },
  {
   "cell_type": "markdown",
   "metadata": {},
   "source": [
    "### Q. How many runs are scored per hit?"
   ]
  },
  {
   "cell_type": "code",
   "execution_count": 23,
   "metadata": {},
   "outputs": [
    {
     "data": {
      "text/html": [
       "<div>\n",
       "<style scoped>\n",
       "    .dataframe tbody tr th:only-of-type {\n",
       "        vertical-align: middle;\n",
       "    }\n",
       "\n",
       "    .dataframe tbody tr th {\n",
       "        vertical-align: top;\n",
       "    }\n",
       "\n",
       "    .dataframe thead th {\n",
       "        text-align: right;\n",
       "    }\n",
       "</style>\n",
       "<table border=\"1\" class=\"dataframe\">\n",
       "  <thead>\n",
       "    <tr style=\"text-align: right;\">\n",
       "      <th>hitvalue</th>\n",
       "      <th>1</th>\n",
       "      <th>2</th>\n",
       "      <th>3</th>\n",
       "      <th>4</th>\n",
       "    </tr>\n",
       "    <tr>\n",
       "      <th>runsonplay</th>\n",
       "      <th></th>\n",
       "      <th></th>\n",
       "      <th></th>\n",
       "      <th></th>\n",
       "    </tr>\n",
       "  </thead>\n",
       "  <tbody>\n",
       "    <tr>\n",
       "      <th>0</th>\n",
       "      <td>203882</td>\n",
       "      <td>51169</td>\n",
       "      <td>4338</td>\n",
       "      <td>0</td>\n",
       "    </tr>\n",
       "    <tr>\n",
       "      <th>1</th>\n",
       "      <td>40339</td>\n",
       "      <td>17246</td>\n",
       "      <td>2227</td>\n",
       "      <td>26477</td>\n",
       "    </tr>\n",
       "    <tr>\n",
       "      <th>2</th>\n",
       "      <td>6325</td>\n",
       "      <td>5525</td>\n",
       "      <td>958</td>\n",
       "      <td>12775</td>\n",
       "    </tr>\n",
       "    <tr>\n",
       "      <th>3</th>\n",
       "      <td>56</td>\n",
       "      <td>722</td>\n",
       "      <td>240</td>\n",
       "      <td>4903</td>\n",
       "    </tr>\n",
       "    <tr>\n",
       "      <th>4</th>\n",
       "      <td>2</td>\n",
       "      <td>1</td>\n",
       "      <td>3</td>\n",
       "      <td>1000</td>\n",
       "    </tr>\n",
       "  </tbody>\n",
       "</table>\n",
       "</div>"
      ],
      "text/plain": [
       "hitvalue         1      2     3      4\n",
       "runsonplay                            \n",
       "0           203882  51169  4338      0\n",
       "1            40339  17246  2227  26477\n",
       "2             6325   5525   958  12775\n",
       "3               56    722   240   4903\n",
       "4                2      1     3   1000"
      ]
     },
     "execution_count": 23,
     "metadata": {},
     "output_type": "execute_result"
    }
   ],
   "source": [
    "data[data.hitvalue>0].groupby(['runsonplay']).hitvalue.value_counts().unstack().fillna(0).astype('int64')"
   ]
  },
  {
   "cell_type": "markdown",
   "metadata": {},
   "source": [
    "## Percentage of overall games where the home team wins."
   ]
  },
  {
   "cell_type": "markdown",
   "metadata": {},
   "source": [
    "The home winning percentage during 2010-2018."
   ]
  },
  {
   "cell_type": "code",
   "execution_count": 24,
   "metadata": {},
   "outputs": [
    {
     "data": {
      "text/plain": [
       "0.5359886592280958"
      ]
     },
     "execution_count": 24,
     "metadata": {},
     "output_type": "execute_result"
    }
   ],
   "source": [
    "data[data.endgame==True].homewin.mean()"
   ]
  },
  {
   "cell_type": "markdown",
   "metadata": {},
   "source": [
    "The home winning percentage by year and league."
   ]
  },
  {
   "cell_type": "code",
   "execution_count": 25,
   "metadata": {},
   "outputs": [
    {
     "data": {
      "text/html": [
       "<div>\n",
       "<style scoped>\n",
       "    .dataframe tbody tr th:only-of-type {\n",
       "        vertical-align: middle;\n",
       "    }\n",
       "\n",
       "    .dataframe tbody tr th {\n",
       "        vertical-align: top;\n",
       "    }\n",
       "\n",
       "    .dataframe thead th {\n",
       "        text-align: right;\n",
       "    }\n",
       "</style>\n",
       "<table border=\"1\" class=\"dataframe\">\n",
       "  <thead>\n",
       "    <tr style=\"text-align: right;\">\n",
       "      <th>league</th>\n",
       "      <th>eva</th>\n",
       "      <th>evn</th>\n",
       "    </tr>\n",
       "    <tr>\n",
       "      <th>date</th>\n",
       "      <th></th>\n",
       "      <th></th>\n",
       "    </tr>\n",
       "  </thead>\n",
       "  <tbody>\n",
       "    <tr>\n",
       "      <th>2010</th>\n",
       "      <td>0.557319</td>\n",
       "      <td>0.560185</td>\n",
       "    </tr>\n",
       "    <tr>\n",
       "      <th>2011</th>\n",
       "      <td>0.533510</td>\n",
       "      <td>0.518147</td>\n",
       "    </tr>\n",
       "    <tr>\n",
       "      <th>2012</th>\n",
       "      <td>0.533510</td>\n",
       "      <td>0.532407</td>\n",
       "    </tr>\n",
       "    <tr>\n",
       "      <th>2013</th>\n",
       "      <td>0.532895</td>\n",
       "      <td>0.542387</td>\n",
       "    </tr>\n",
       "    <tr>\n",
       "      <th>2014</th>\n",
       "      <td>0.519342</td>\n",
       "      <td>0.540741</td>\n",
       "    </tr>\n",
       "    <tr>\n",
       "      <th>2015</th>\n",
       "      <td>0.543657</td>\n",
       "      <td>0.539918</td>\n",
       "    </tr>\n",
       "    <tr>\n",
       "      <th>2016</th>\n",
       "      <td>0.544481</td>\n",
       "      <td>0.515651</td>\n",
       "    </tr>\n",
       "    <tr>\n",
       "      <th>2017</th>\n",
       "      <td>0.537449</td>\n",
       "      <td>0.541564</td>\n",
       "    </tr>\n",
       "    <tr>\n",
       "      <th>2018</th>\n",
       "      <td>0.530041</td>\n",
       "      <td>0.525493</td>\n",
       "    </tr>\n",
       "  </tbody>\n",
       "</table>\n",
       "</div>"
      ],
      "text/plain": [
       "league       eva       evn\n",
       "date                      \n",
       "2010    0.557319  0.560185\n",
       "2011    0.533510  0.518147\n",
       "2012    0.533510  0.532407\n",
       "2013    0.532895  0.542387\n",
       "2014    0.519342  0.540741\n",
       "2015    0.543657  0.539918\n",
       "2016    0.544481  0.515651\n",
       "2017    0.537449  0.541564\n",
       "2018    0.530041  0.525493"
      ]
     },
     "execution_count": 25,
     "metadata": {},
     "output_type": "execute_result"
    }
   ],
   "source": [
    "data[data.endgame==True].groupby([data.date.dt.year, 'league']).homewin.mean().unstack()"
   ]
  },
  {
   "cell_type": "markdown",
   "metadata": {},
   "source": [
    "For the most part there does not seem to be any big disparity between the home winning percentage in each league. There does however appear to be an obvious home field advantage since the percentages are consistently above 50% for both leagues in every year."
   ]
  },
  {
   "cell_type": "markdown",
   "metadata": {
    "toc-hr-collapsed": true
   },
   "source": [
    "## What different events occurred with each plate appearance?"
   ]
  },
  {
   "cell_type": "markdown",
   "metadata": {},
   "source": [
    "from **https://www.retrosheet.org/datause.txt**\n",
    "<pre>\n",
    "event type.  There are 25 different numeric codes to describe\n",
    "             the type of event.  They are:\n",
    "\n",
    "          Code Meaning\n",
    "\n",
    "          0    Unknown event\n",
    "          1    No event\n",
    "          2    Generic out\n",
    "          3    Strikeout\n",
    "          4    Stolen base\n",
    "          5    Defensive indifference\n",
    "          6    Caught stealing\n",
    "          7    Pickoff error\n",
    "          8    Pickoff\n",
    "          9    Wild pitch\n",
    "          10   Passed ball\n",
    "          11   Balk\n",
    "          12   Other advance\n",
    "          13   Foul error\n",
    "          14   Walk\n",
    "          15   Intentional walk\n",
    "          16   Hit by pitch\n",
    "          17   Interference\n",
    "          18   Error\n",
    "          19   Fielder's choice\n",
    "          20   Single\n",
    "          21   Double\n",
    "          22   Triple\n",
    "          23   Home run\n",
    "          24   Missing play\n",
    "</pre>"
   ]
  },
  {
   "cell_type": "code",
   "execution_count": 26,
   "metadata": {},
   "outputs": [],
   "source": [
    "eventdict = {0:'unknown',1:'none',2:'out',3:'K',4:'SB',\n",
    "            5:'defensive indiff', 6:'caught stealing', 7:'pickoff error', 8:'pickoff', 9:'WP',\n",
    "            10:'passed ball', 11:'balk', 12:'other advance', 13:'foul error', 14:'BB',\n",
    "            15:'intential BB', 16:'HBP', 17:'interference', 18:'Error', 19:'Fielders Choice',\n",
    "            20:'Single', 21:'Double', 22:'Triple', 23:'Home Run', 24:'Missing play'\n",
    "           }"
   ]
  },
  {
   "cell_type": "markdown",
   "metadata": {},
   "source": [
    "Using this mapping, a new column `eventtypestr` is created."
   ]
  },
  {
   "cell_type": "code",
   "execution_count": 27,
   "metadata": {},
   "outputs": [
    {
     "data": {
      "text/plain": [
       "CategoricalDtype(categories=['BB', 'Double', 'Error', 'Fielders Choice', 'HBP',\n",
       "                  'Home Run', 'K', 'SB', 'Single', 'Triple', 'WP', 'balk',\n",
       "                  'caught stealing', 'defensive indiff', 'foul error',\n",
       "                  'intential BB', 'interference', 'other advance', 'out',\n",
       "                  'passed ball', 'pickoff'],\n",
       "                 ordered=False)"
      ]
     },
     "execution_count": 27,
     "metadata": {},
     "output_type": "execute_result"
    }
   ],
   "source": [
    "data['eventtypestr']=data.eventtype.map(eventdict).astype('category')\n",
    "data.eventtypestr.dtype"
   ]
  },
  {
   "cell_type": "code",
   "execution_count": 28,
   "metadata": {},
   "outputs": [
    {
     "data": {
      "text/plain": [
       "interference           284\n",
       "foul error             378\n",
       "other advance          958\n",
       "balk                  1367\n",
       "defensive indiff      2721\n",
       "passed ball           2760\n",
       "Fielders Choice       4608\n",
       "pickoff               4815\n",
       "caught stealing       6583\n",
       "Triple                7766\n",
       "intential BB          9287\n",
       "WP                   14019\n",
       "Error                14118\n",
       "HBP                  14723\n",
       "SB                   21954\n",
       "Home Run             45155\n",
       "Double               74663\n",
       "BB                  125554\n",
       "Single              250604\n",
       "K                   337110\n",
       "out                 778549\n",
       "Name: eventtypestr, dtype: int64"
      ]
     },
     "execution_count": 28,
     "metadata": {},
     "output_type": "execute_result"
    }
   ],
   "source": [
    "data.eventtypestr.value_counts().sort_values()"
   ]
  },
  {
   "cell_type": "code",
   "execution_count": 29,
   "metadata": {},
   "outputs": [
    {
     "data": {
      "image/png": "[encoded data removed]",
      "text/plain": [
       "<Figure size 432x288 with 1 Axes>"
      ]
     },
     "metadata": {
      "needs_background": "light"
     },
     "output_type": "display_data"
    }
   ],
   "source": [
    "data.eventtypestr.value_counts().plot.barh()\n",
    "plt.xlabel('number of occurences')\n",
    "plt.title('Events for each play');"
   ]
  },
  {
   "cell_type": "markdown",
   "metadata": {},
   "source": [
    "### Which events result in runs?"
   ]
  },
  {
   "cell_type": "code",
   "execution_count": 30,
   "metadata": {},
   "outputs": [
    {
     "data": {
      "text/html": [
       "<div>\n",
       "<style scoped>\n",
       "    .dataframe tbody tr th:only-of-type {\n",
       "        vertical-align: middle;\n",
       "    }\n",
       "\n",
       "    .dataframe tbody tr th {\n",
       "        vertical-align: top;\n",
       "    }\n",
       "\n",
       "    .dataframe thead th {\n",
       "        text-align: right;\n",
       "    }\n",
       "</style>\n",
       "<table border=\"1\" class=\"dataframe\">\n",
       "  <thead>\n",
       "    <tr style=\"text-align: right;\">\n",
       "      <th>runsonplay</th>\n",
       "      <th>0</th>\n",
       "      <th>1</th>\n",
       "      <th>2</th>\n",
       "      <th>3</th>\n",
       "      <th>4</th>\n",
       "    </tr>\n",
       "    <tr>\n",
       "      <th>eventtypestr</th>\n",
       "      <th></th>\n",
       "      <th></th>\n",
       "      <th></th>\n",
       "      <th></th>\n",
       "      <th></th>\n",
       "    </tr>\n",
       "  </thead>\n",
       "  <tbody>\n",
       "    <tr>\n",
       "      <th>BB</th>\n",
       "      <td>122937</td>\n",
       "      <td>2616</td>\n",
       "      <td>1</td>\n",
       "      <td>0</td>\n",
       "      <td>0</td>\n",
       "    </tr>\n",
       "    <tr>\n",
       "      <th>Double</th>\n",
       "      <td>51169</td>\n",
       "      <td>17246</td>\n",
       "      <td>5525</td>\n",
       "      <td>722</td>\n",
       "      <td>1</td>\n",
       "    </tr>\n",
       "    <tr>\n",
       "      <th>Error</th>\n",
       "      <td>11683</td>\n",
       "      <td>2106</td>\n",
       "      <td>315</td>\n",
       "      <td>14</td>\n",
       "      <td>0</td>\n",
       "    </tr>\n",
       "    <tr>\n",
       "      <th>Fielders Choice</th>\n",
       "      <td>3775</td>\n",
       "      <td>793</td>\n",
       "      <td>39</td>\n",
       "      <td>1</td>\n",
       "      <td>0</td>\n",
       "    </tr>\n",
       "    <tr>\n",
       "      <th>HBP</th>\n",
       "      <td>14337</td>\n",
       "      <td>386</td>\n",
       "      <td>0</td>\n",
       "      <td>0</td>\n",
       "      <td>0</td>\n",
       "    </tr>\n",
       "    <tr>\n",
       "      <th>Home Run</th>\n",
       "      <td>0</td>\n",
       "      <td>26477</td>\n",
       "      <td>12775</td>\n",
       "      <td>4903</td>\n",
       "      <td>1000</td>\n",
       "    </tr>\n",
       "    <tr>\n",
       "      <th>K</th>\n",
       "      <td>336921</td>\n",
       "      <td>182</td>\n",
       "      <td>7</td>\n",
       "      <td>0</td>\n",
       "      <td>0</td>\n",
       "    </tr>\n",
       "    <tr>\n",
       "      <th>SB</th>\n",
       "      <td>21586</td>\n",
       "      <td>362</td>\n",
       "      <td>6</td>\n",
       "      <td>0</td>\n",
       "      <td>0</td>\n",
       "    </tr>\n",
       "    <tr>\n",
       "      <th>Single</th>\n",
       "      <td>203882</td>\n",
       "      <td>40339</td>\n",
       "      <td>6325</td>\n",
       "      <td>56</td>\n",
       "      <td>2</td>\n",
       "    </tr>\n",
       "    <tr>\n",
       "      <th>Triple</th>\n",
       "      <td>4338</td>\n",
       "      <td>2227</td>\n",
       "      <td>958</td>\n",
       "      <td>240</td>\n",
       "      <td>3</td>\n",
       "    </tr>\n",
       "    <tr>\n",
       "      <th>WP</th>\n",
       "      <td>12072</td>\n",
       "      <td>1927</td>\n",
       "      <td>18</td>\n",
       "      <td>2</td>\n",
       "      <td>0</td>\n",
       "    </tr>\n",
       "    <tr>\n",
       "      <th>balk</th>\n",
       "      <td>1136</td>\n",
       "      <td>231</td>\n",
       "      <td>0</td>\n",
       "      <td>0</td>\n",
       "      <td>0</td>\n",
       "    </tr>\n",
       "    <tr>\n",
       "      <th>caught stealing</th>\n",
       "      <td>6550</td>\n",
       "      <td>33</td>\n",
       "      <td>0</td>\n",
       "      <td>0</td>\n",
       "      <td>0</td>\n",
       "    </tr>\n",
       "    <tr>\n",
       "      <th>defensive indiff</th>\n",
       "      <td>2721</td>\n",
       "      <td>0</td>\n",
       "      <td>0</td>\n",
       "      <td>0</td>\n",
       "      <td>0</td>\n",
       "    </tr>\n",
       "    <tr>\n",
       "      <th>foul error</th>\n",
       "      <td>378</td>\n",
       "      <td>0</td>\n",
       "      <td>0</td>\n",
       "      <td>0</td>\n",
       "      <td>0</td>\n",
       "    </tr>\n",
       "    <tr>\n",
       "      <th>intential BB</th>\n",
       "      <td>9285</td>\n",
       "      <td>2</td>\n",
       "      <td>0</td>\n",
       "      <td>0</td>\n",
       "      <td>0</td>\n",
       "    </tr>\n",
       "    <tr>\n",
       "      <th>interference</th>\n",
       "      <td>274</td>\n",
       "      <td>10</td>\n",
       "      <td>0</td>\n",
       "      <td>0</td>\n",
       "      <td>0</td>\n",
       "    </tr>\n",
       "    <tr>\n",
       "      <th>other advance</th>\n",
       "      <td>935</td>\n",
       "      <td>21</td>\n",
       "      <td>2</td>\n",
       "      <td>0</td>\n",
       "      <td>0</td>\n",
       "    </tr>\n",
       "    <tr>\n",
       "      <th>out</th>\n",
       "      <td>758183</td>\n",
       "      <td>20259</td>\n",
       "      <td>106</td>\n",
       "      <td>1</td>\n",
       "      <td>0</td>\n",
       "    </tr>\n",
       "    <tr>\n",
       "      <th>passed ball</th>\n",
       "      <td>2369</td>\n",
       "      <td>389</td>\n",
       "      <td>2</td>\n",
       "      <td>0</td>\n",
       "      <td>0</td>\n",
       "    </tr>\n",
       "    <tr>\n",
       "      <th>pickoff</th>\n",
       "      <td>4670</td>\n",
       "      <td>143</td>\n",
       "      <td>2</td>\n",
       "      <td>0</td>\n",
       "      <td>0</td>\n",
       "    </tr>\n",
       "  </tbody>\n",
       "</table>\n",
       "</div>"
      ],
      "text/plain": [
       "runsonplay             0      1      2     3     4\n",
       "eventtypestr                                      \n",
       "BB                122937   2616      1     0     0\n",
       "Double             51169  17246   5525   722     1\n",
       "Error              11683   2106    315    14     0\n",
       "Fielders Choice     3775    793     39     1     0\n",
       "HBP                14337    386      0     0     0\n",
       "Home Run               0  26477  12775  4903  1000\n",
       "K                 336921    182      7     0     0\n",
       "SB                 21586    362      6     0     0\n",
       "Single            203882  40339   6325    56     2\n",
       "Triple              4338   2227    958   240     3\n",
       "WP                 12072   1927     18     2     0\n",
       "balk                1136    231      0     0     0\n",
       "caught stealing     6550     33      0     0     0\n",
       "defensive indiff    2721      0      0     0     0\n",
       "foul error           378      0      0     0     0\n",
       "intential BB        9285      2      0     0     0\n",
       "interference         274     10      0     0     0\n",
       "other advance        935     21      2     0     0\n",
       "out               758183  20259    106     1     0\n",
       "passed ball         2369    389      2     0     0\n",
       "pickoff             4670    143      2     0     0"
      ]
     },
     "execution_count": 30,
     "metadata": {},
     "output_type": "execute_result"
    }
   ],
   "source": [
    "data.groupby('eventtypestr').runsonplay.value_counts().unstack().fillna(0).astype('int64')"
   ]
  },
  {
   "cell_type": "markdown",
   "metadata": {
    "toc-hr-collapsed": true
   },
   "source": [
    "## Pitcher hand v. Batter hand. Does it make a difference?"
   ]
  },
  {
   "cell_type": "markdown",
   "metadata": {},
   "source": [
    "### How many runs scored depending on handedness of batter and pitcher."
   ]
  },
  {
   "cell_type": "code",
   "execution_count": 31,
   "metadata": {},
   "outputs": [
    {
     "data": {
      "text/html": [
       "<div>\n",
       "<style scoped>\n",
       "    .dataframe tbody tr th:only-of-type {\n",
       "        vertical-align: middle;\n",
       "    }\n",
       "\n",
       "    .dataframe tbody tr th {\n",
       "        vertical-align: top;\n",
       "    }\n",
       "\n",
       "    .dataframe thead th {\n",
       "        text-align: right;\n",
       "    }\n",
       "</style>\n",
       "<table border=\"1\" class=\"dataframe\">\n",
       "  <thead>\n",
       "    <tr style=\"text-align: right;\">\n",
       "      <th></th>\n",
       "      <th>runsonplay</th>\n",
       "      <th>0</th>\n",
       "      <th>1</th>\n",
       "      <th>2</th>\n",
       "      <th>3</th>\n",
       "      <th>4</th>\n",
       "    </tr>\n",
       "    <tr>\n",
       "      <th>batterhand</th>\n",
       "      <th>pitcherhand</th>\n",
       "      <th></th>\n",
       "      <th></th>\n",
       "      <th></th>\n",
       "      <th></th>\n",
       "      <th></th>\n",
       "    </tr>\n",
       "  </thead>\n",
       "  <tbody>\n",
       "    <tr>\n",
       "      <th rowspan=\"2\" valign=\"top\">L</th>\n",
       "      <th>L</th>\n",
       "      <td>125791</td>\n",
       "      <td>8889</td>\n",
       "      <td>2018</td>\n",
       "      <td>443</td>\n",
       "      <td>64</td>\n",
       "    </tr>\n",
       "    <tr>\n",
       "      <th>R</th>\n",
       "      <td>543128</td>\n",
       "      <td>39475</td>\n",
       "      <td>8866</td>\n",
       "      <td>1938</td>\n",
       "      <td>346</td>\n",
       "    </tr>\n",
       "    <tr>\n",
       "      <th rowspan=\"2\" valign=\"top\">R</th>\n",
       "      <th>L</th>\n",
       "      <td>304665</td>\n",
       "      <td>22060</td>\n",
       "      <td>5056</td>\n",
       "      <td>1176</td>\n",
       "      <td>201</td>\n",
       "    </tr>\n",
       "    <tr>\n",
       "      <th>R</th>\n",
       "      <td>595617</td>\n",
       "      <td>45325</td>\n",
       "      <td>10141</td>\n",
       "      <td>2382</td>\n",
       "      <td>395</td>\n",
       "    </tr>\n",
       "  </tbody>\n",
       "</table>\n",
       "</div>"
      ],
      "text/plain": [
       "runsonplay                   0      1      2     3    4\n",
       "batterhand pitcherhand                                 \n",
       "L          L            125791   8889   2018   443   64\n",
       "           R            543128  39475   8866  1938  346\n",
       "R          L            304665  22060   5056  1176  201\n",
       "           R            595617  45325  10141  2382  395"
      ]
     },
     "execution_count": 31,
     "metadata": {},
     "output_type": "execute_result"
    }
   ],
   "source": [
    "data.groupby(['batterhand','pitcherhand','runsonplay']).size().unstack()"
   ]
  },
  {
   "cell_type": "markdown",
   "metadata": {},
   "source": [
    "In American League?"
   ]
  },
  {
   "cell_type": "code",
   "execution_count": 32,
   "metadata": {},
   "outputs": [
    {
     "data": {
      "text/html": [
       "<div>\n",
       "<style scoped>\n",
       "    .dataframe tbody tr th:only-of-type {\n",
       "        vertical-align: middle;\n",
       "    }\n",
       "\n",
       "    .dataframe tbody tr th {\n",
       "        vertical-align: top;\n",
       "    }\n",
       "\n",
       "    .dataframe thead th {\n",
       "        text-align: right;\n",
       "    }\n",
       "</style>\n",
       "<table border=\"1\" class=\"dataframe\">\n",
       "  <thead>\n",
       "    <tr style=\"text-align: right;\">\n",
       "      <th></th>\n",
       "      <th>runsonplay</th>\n",
       "      <th>0</th>\n",
       "      <th>1</th>\n",
       "      <th>2</th>\n",
       "      <th>3</th>\n",
       "      <th>4</th>\n",
       "    </tr>\n",
       "    <tr>\n",
       "      <th>batterhand</th>\n",
       "      <th>pitcherhand</th>\n",
       "      <th></th>\n",
       "      <th></th>\n",
       "      <th></th>\n",
       "      <th></th>\n",
       "      <th></th>\n",
       "    </tr>\n",
       "  </thead>\n",
       "  <tbody>\n",
       "    <tr>\n",
       "      <th rowspan=\"2\" valign=\"top\">L</th>\n",
       "      <th>L</th>\n",
       "      <td>63994</td>\n",
       "      <td>4655</td>\n",
       "      <td>1031</td>\n",
       "      <td>225</td>\n",
       "      <td>35</td>\n",
       "    </tr>\n",
       "    <tr>\n",
       "      <th>R</th>\n",
       "      <td>271404</td>\n",
       "      <td>20017</td>\n",
       "      <td>4579</td>\n",
       "      <td>992</td>\n",
       "      <td>187</td>\n",
       "    </tr>\n",
       "    <tr>\n",
       "      <th rowspan=\"2\" valign=\"top\">R</th>\n",
       "      <th>L</th>\n",
       "      <td>154275</td>\n",
       "      <td>11354</td>\n",
       "      <td>2625</td>\n",
       "      <td>611</td>\n",
       "      <td>96</td>\n",
       "    </tr>\n",
       "    <tr>\n",
       "      <th>R</th>\n",
       "      <td>276074</td>\n",
       "      <td>21543</td>\n",
       "      <td>4891</td>\n",
       "      <td>1182</td>\n",
       "      <td>190</td>\n",
       "    </tr>\n",
       "  </tbody>\n",
       "</table>\n",
       "</div>"
      ],
      "text/plain": [
       "runsonplay                   0      1     2     3    4\n",
       "batterhand pitcherhand                                \n",
       "L          L             63994   4655  1031   225   35\n",
       "           R            271404  20017  4579   992  187\n",
       "R          L            154275  11354  2625   611   96\n",
       "           R            276074  21543  4891  1182  190"
      ]
     },
     "execution_count": 32,
     "metadata": {},
     "output_type": "execute_result"
    }
   ],
   "source": [
    "data[data.league=='eva'].groupby(['batterhand', 'pitcherhand', 'runsonplay']).size().unstack()"
   ]
  },
  {
   "cell_type": "markdown",
   "metadata": {},
   "source": [
    "In National League?"
   ]
  },
  {
   "cell_type": "code",
   "execution_count": 33,
   "metadata": {},
   "outputs": [
    {
     "data": {
      "text/html": [
       "<div>\n",
       "<style scoped>\n",
       "    .dataframe tbody tr th:only-of-type {\n",
       "        vertical-align: middle;\n",
       "    }\n",
       "\n",
       "    .dataframe tbody tr th {\n",
       "        vertical-align: top;\n",
       "    }\n",
       "\n",
       "    .dataframe thead th {\n",
       "        text-align: right;\n",
       "    }\n",
       "</style>\n",
       "<table border=\"1\" class=\"dataframe\">\n",
       "  <thead>\n",
       "    <tr style=\"text-align: right;\">\n",
       "      <th></th>\n",
       "      <th>runsonplay</th>\n",
       "      <th>0</th>\n",
       "      <th>1</th>\n",
       "      <th>2</th>\n",
       "      <th>3</th>\n",
       "      <th>4</th>\n",
       "    </tr>\n",
       "    <tr>\n",
       "      <th>batterhand</th>\n",
       "      <th>pitcherhand</th>\n",
       "      <th></th>\n",
       "      <th></th>\n",
       "      <th></th>\n",
       "      <th></th>\n",
       "      <th></th>\n",
       "    </tr>\n",
       "  </thead>\n",
       "  <tbody>\n",
       "    <tr>\n",
       "      <th rowspan=\"2\" valign=\"top\">L</th>\n",
       "      <th>L</th>\n",
       "      <td>61797</td>\n",
       "      <td>4234</td>\n",
       "      <td>987</td>\n",
       "      <td>218</td>\n",
       "      <td>29</td>\n",
       "    </tr>\n",
       "    <tr>\n",
       "      <th>R</th>\n",
       "      <td>271724</td>\n",
       "      <td>19458</td>\n",
       "      <td>4287</td>\n",
       "      <td>946</td>\n",
       "      <td>159</td>\n",
       "    </tr>\n",
       "    <tr>\n",
       "      <th rowspan=\"2\" valign=\"top\">R</th>\n",
       "      <th>L</th>\n",
       "      <td>150390</td>\n",
       "      <td>10706</td>\n",
       "      <td>2431</td>\n",
       "      <td>565</td>\n",
       "      <td>105</td>\n",
       "    </tr>\n",
       "    <tr>\n",
       "      <th>R</th>\n",
       "      <td>319543</td>\n",
       "      <td>23782</td>\n",
       "      <td>5250</td>\n",
       "      <td>1200</td>\n",
       "      <td>205</td>\n",
       "    </tr>\n",
       "  </tbody>\n",
       "</table>\n",
       "</div>"
      ],
      "text/plain": [
       "runsonplay                   0      1     2     3    4\n",
       "batterhand pitcherhand                                \n",
       "L          L             61797   4234   987   218   29\n",
       "           R            271724  19458  4287   946  159\n",
       "R          L            150390  10706  2431   565  105\n",
       "           R            319543  23782  5250  1200  205"
      ]
     },
     "execution_count": 33,
     "metadata": {},
     "output_type": "execute_result"
    }
   ],
   "source": [
    "data[data.league=='evn'].groupby(['batterhand', 'pitcherhand', 'runsonplay']).size().unstack()"
   ]
  },
  {
   "cell_type": "markdown",
   "metadata": {
    "toc-hr-collapsed": true
   },
   "source": [
    "## Who walks and when?"
   ]
  },
  {
   "cell_type": "code",
   "execution_count": 34,
   "metadata": {},
   "outputs": [
    {
     "data": {
      "text/html": [
       "<div>\n",
       "<style scoped>\n",
       "    .dataframe tbody tr th:only-of-type {\n",
       "        vertical-align: middle;\n",
       "    }\n",
       "\n",
       "    .dataframe tbody tr th {\n",
       "        vertical-align: top;\n",
       "    }\n",
       "\n",
       "    .dataframe thead th {\n",
       "        text-align: right;\n",
       "    }\n",
       "</style>\n",
       "<table border=\"1\" class=\"dataframe\">\n",
       "  <thead>\n",
       "    <tr style=\"text-align: right;\">\n",
       "      <th>eventtext</th>\n",
       "      <th>W</th>\n",
       "    </tr>\n",
       "    <tr>\n",
       "      <th>date</th>\n",
       "      <th></th>\n",
       "    </tr>\n",
       "  </thead>\n",
       "  <tbody>\n",
       "    <tr>\n",
       "      <th>2010</th>\n",
       "      <td>10485</td>\n",
       "    </tr>\n",
       "    <tr>\n",
       "      <th>2011</th>\n",
       "      <td>10143</td>\n",
       "    </tr>\n",
       "    <tr>\n",
       "      <th>2012</th>\n",
       "      <td>10019</td>\n",
       "    </tr>\n",
       "    <tr>\n",
       "      <th>2013</th>\n",
       "      <td>9849</td>\n",
       "    </tr>\n",
       "    <tr>\n",
       "      <th>2014</th>\n",
       "      <td>9522</td>\n",
       "    </tr>\n",
       "    <tr>\n",
       "      <th>2015</th>\n",
       "      <td>9556</td>\n",
       "    </tr>\n",
       "    <tr>\n",
       "      <th>2016</th>\n",
       "      <td>10212</td>\n",
       "    </tr>\n",
       "    <tr>\n",
       "      <th>2017</th>\n",
       "      <td>10768</td>\n",
       "    </tr>\n",
       "    <tr>\n",
       "      <th>2018</th>\n",
       "      <td>10630</td>\n",
       "    </tr>\n",
       "  </tbody>\n",
       "</table>\n",
       "</div>"
      ],
      "text/plain": [
       "eventtext      W\n",
       "date            \n",
       "2010       10485\n",
       "2011       10143\n",
       "2012       10019\n",
       "2013        9849\n",
       "2014        9522\n",
       "2015        9556\n",
       "2016       10212\n",
       "2017       10768\n",
       "2018       10630"
      ]
     },
     "execution_count": 34,
     "metadata": {},
     "output_type": "execute_result"
    }
   ],
   "source": [
    "data[data.eventtext=='W'].groupby(data.date.dt.year)['eventtext'].value_counts().unstack()"
   ]
  },
  {
   "cell_type": "markdown",
   "metadata": {},
   "source": [
    "### Does the home or away team walk more?"
   ]
  },
  {
   "cell_type": "code",
   "execution_count": 35,
   "metadata": {},
   "outputs": [
    {
     "data": {
      "text/html": [
       "<div>\n",
       "<style scoped>\n",
       "    .dataframe tbody tr th:only-of-type {\n",
       "        vertical-align: middle;\n",
       "    }\n",
       "\n",
       "    .dataframe tbody tr th {\n",
       "        vertical-align: top;\n",
       "    }\n",
       "\n",
       "    .dataframe thead tr th {\n",
       "        text-align: left;\n",
       "    }\n",
       "\n",
       "    .dataframe thead tr:last-of-type th {\n",
       "        text-align: right;\n",
       "    }\n",
       "</style>\n",
       "<table border=\"1\" class=\"dataframe\">\n",
       "  <thead>\n",
       "    <tr>\n",
       "      <th>eventtext</th>\n",
       "      <th colspan=\"2\" halign=\"left\">W</th>\n",
       "    </tr>\n",
       "    <tr>\n",
       "      <th>teamatbat</th>\n",
       "      <th>0</th>\n",
       "      <th>1</th>\n",
       "    </tr>\n",
       "    <tr>\n",
       "      <th>inning</th>\n",
       "      <th></th>\n",
       "      <th></th>\n",
       "    </tr>\n",
       "  </thead>\n",
       "  <tbody>\n",
       "    <tr>\n",
       "      <th>1</th>\n",
       "      <td>5195</td>\n",
       "      <td>6016</td>\n",
       "    </tr>\n",
       "    <tr>\n",
       "      <th>2</th>\n",
       "      <td>4705</td>\n",
       "      <td>4920</td>\n",
       "    </tr>\n",
       "    <tr>\n",
       "      <th>3</th>\n",
       "      <td>4821</td>\n",
       "      <td>5131</td>\n",
       "    </tr>\n",
       "    <tr>\n",
       "      <th>4</th>\n",
       "      <td>4764</td>\n",
       "      <td>5191</td>\n",
       "    </tr>\n",
       "    <tr>\n",
       "      <th>5</th>\n",
       "      <td>4861</td>\n",
       "      <td>4992</td>\n",
       "    </tr>\n",
       "    <tr>\n",
       "      <th>6</th>\n",
       "      <td>4655</td>\n",
       "      <td>5267</td>\n",
       "    </tr>\n",
       "    <tr>\n",
       "      <th>7</th>\n",
       "      <td>4955</td>\n",
       "      <td>5432</td>\n",
       "    </tr>\n",
       "    <tr>\n",
       "      <th>8</th>\n",
       "      <td>5024</td>\n",
       "      <td>5413</td>\n",
       "    </tr>\n",
       "    <tr>\n",
       "      <th>9</th>\n",
       "      <td>4876</td>\n",
       "      <td>2852</td>\n",
       "    </tr>\n",
       "    <tr>\n",
       "      <th>10</th>\n",
       "      <td>496</td>\n",
       "      <td>460</td>\n",
       "    </tr>\n",
       "    <tr>\n",
       "      <th>11</th>\n",
       "      <td>295</td>\n",
       "      <td>247</td>\n",
       "    </tr>\n",
       "    <tr>\n",
       "      <th>12</th>\n",
       "      <td>138</td>\n",
       "      <td>146</td>\n",
       "    </tr>\n",
       "    <tr>\n",
       "      <th>13</th>\n",
       "      <td>68</td>\n",
       "      <td>85</td>\n",
       "    </tr>\n",
       "    <tr>\n",
       "      <th>14</th>\n",
       "      <td>43</td>\n",
       "      <td>44</td>\n",
       "    </tr>\n",
       "    <tr>\n",
       "      <th>15</th>\n",
       "      <td>23</td>\n",
       "      <td>18</td>\n",
       "    </tr>\n",
       "    <tr>\n",
       "      <th>16</th>\n",
       "      <td>12</td>\n",
       "      <td>13</td>\n",
       "    </tr>\n",
       "    <tr>\n",
       "      <th>17</th>\n",
       "      <td>4</td>\n",
       "      <td>6</td>\n",
       "    </tr>\n",
       "    <tr>\n",
       "      <th>18</th>\n",
       "      <td>5</td>\n",
       "      <td>5</td>\n",
       "    </tr>\n",
       "    <tr>\n",
       "      <th>19</th>\n",
       "      <td>3</td>\n",
       "      <td>3</td>\n",
       "    </tr>\n",
       "  </tbody>\n",
       "</table>\n",
       "</div>"
      ],
      "text/plain": [
       "eventtext     W      \n",
       "teamatbat     0     1\n",
       "inning               \n",
       "1          5195  6016\n",
       "2          4705  4920\n",
       "3          4821  5131\n",
       "4          4764  5191\n",
       "5          4861  4992\n",
       "6          4655  5267\n",
       "7          4955  5432\n",
       "8          5024  5413\n",
       "9          4876  2852\n",
       "10          496   460\n",
       "11          295   247\n",
       "12          138   146\n",
       "13           68    85\n",
       "14           43    44\n",
       "15           23    18\n",
       "16           12    13\n",
       "17            4     6\n",
       "18            5     5\n",
       "19            3     3"
      ]
     },
     "execution_count": 35,
     "metadata": {},
     "output_type": "execute_result"
    }
   ],
   "source": [
    "data[data.eventtext=='W'].groupby(['inning','teamatbat'])['eventtext'].value_counts().unstack().unstack()"
   ]
  },
  {
   "cell_type": "markdown",
   "metadata": {},
   "source": [
    "It seems like there may be a difference between the home and away teams. The home team appears to walk a bit more frequently. This discrepancy does not appear as dominant or it disappears in the later innnings (9th inning and later).\n",
    "\n",
    "This can be partly explained by the home team not needing their full at bats if they win or are leading in any of the innings after the 8th inning."
   ]
  },
  {
   "cell_type": "markdown",
   "metadata": {},
   "source": [
    "## How are the pitch sequences distributed?"
   ]
  },
  {
   "cell_type": "code",
   "execution_count": 36,
   "metadata": {},
   "outputs": [
    {
     "data": {
      "text/plain": [
       "0            CSBFFBFC\n",
       "1                  FX\n",
       "2                 CBX\n",
       "3          BBCCFBFFFB\n",
       "4                  CX\n",
       "              ...    \n",
       "1717971          FFBX\n",
       "1717972        .BBFBB\n",
       "1717973          .SFS\n",
       "1717974          CSFX\n",
       "1717975           BBX\n",
       "Name: pitches, Length: 1717976, dtype: object"
      ]
     },
     "execution_count": 36,
     "metadata": {},
     "output_type": "execute_result"
    }
   ],
   "source": [
    "data.pitches # Pandas series"
   ]
  },
  {
   "cell_type": "code",
   "execution_count": 37,
   "metadata": {},
   "outputs": [
    {
     "name": "stdout",
     "output_type": "stream",
     "text": [
      "\\+\\*\\.123>\n"
     ]
    }
   ],
   "source": [
    "print(re.escape('+*.123>'))\n",
    "regex_nonpitch = re.compile('['+re.escape('+*.123>')+']')"
   ]
  },
  {
   "cell_type": "code",
   "execution_count": 38,
   "metadata": {},
   "outputs": [],
   "source": [
    "# balls: B ball, H hit batter, I intentional ball, N no pitch, P pitchout, U unknown, V called ball\n",
    "regex_ball = re.compile('[BHINPUV]')\n",
    "\n",
    "# strikes: all others i.e\n",
    "# C called strike, F foul, K strike, L foul bunt, M missed bunt, O foul tip bunt, Q swing on pitchout\n",
    "# R foul on pitchout, S swinging strike, T foul tip, X ball in play by batter, Y ball in play on pitchout\n",
    "regex_strike = re.compile('[CFKLM]')"
   ]
  },
  {
   "cell_type": "code",
   "execution_count": 39,
   "metadata": {},
   "outputs": [],
   "source": [
    "data['pitchesonly'] = data.pitches.str.replace(regex_nonpitch,'') #removes all non-pitches with \n",
    "data['pitchcount'] = data.pitchesonly.str.len()"
   ]
  },
  {
   "cell_type": "code",
   "execution_count": 40,
   "metadata": {},
   "outputs": [
    {
     "data": {
      "text/plain": [
       "0       1277\n",
       "1     199246\n",
       "2     277601\n",
       "3     312043\n",
       "4     326906\n",
       "5     280194\n",
       "6     188444\n",
       "7      80538\n",
       "8      32343\n",
       "9      12201\n",
       "10      4598\n",
       "11      1648\n",
       "12       607\n",
       "13       200\n",
       "14        81\n",
       "15        22\n",
       "16         8\n",
       "17         3\n",
       "18         1\n",
       "19         0\n",
       "20         0\n",
       "21         1\n",
       "Name: pitchcount, dtype: int64"
      ]
     },
     "execution_count": 40,
     "metadata": {},
     "output_type": "execute_result"
    }
   ],
   "source": [
    "pitchcounts = pd.Series(data.pitchcount.value_counts(),index=range(22)).fillna(0).astype('int64')\n",
    "pitchcounts"
   ]
  },
  {
   "cell_type": "code",
   "execution_count": 41,
   "metadata": {},
   "outputs": [
    {
     "name": "stdout",
     "output_type": "stream",
     "text": [
      "Mean # of pitches: 3.806\n",
      "Std. dev of # of pitches: 1.879\n",
      "95% C.I. of # of pitches: (0.047, 7.564)\n",
      "0.10    1.0\n",
      "0.25    2.0\n",
      "0.50    4.0\n",
      "0.75    5.0\n",
      "0.90    6.0\n",
      "Name: pitchcount, dtype: float64\n",
      "1.8791867289099837\n"
     ]
    }
   ],
   "source": [
    "xbar_pitches = data.pitchcount.mean()\n",
    "s_pitches = data.pitchcount.std()\n",
    "print('Mean # of pitches: {:0.3f}'.format(xbar_pitches))\n",
    "print('Std. dev of # of pitches: {:0.3f}'.format(s_pitches))\n",
    "print('95% C.I. of # of pitches: ({:0.3f}, {:0.3f})'.format(xbar_pitches - 2*s_pitches, xbar_pitches + 2*s_pitches))\n",
    "print(data.pitchcount.quantile([0.1, 0.25, 0.5, 0.75, 0.9]))\n",
    "print(data.pitchcount.std())"
   ]
  },
  {
   "cell_type": "code",
   "execution_count": 42,
   "metadata": {},
   "outputs": [
    {
     "name": "stdout",
     "output_type": "stream",
     "text": [
      "more than 7 pitches: 0.0679\n",
      "more than 8 ptiches: 0.0284\n"
     ]
    }
   ],
   "source": [
    "print('more than 7 pitches: {:0.4f}'.format(data[data.pitchcount > 7].pitchcount.sum()/data.pitchcount.sum()))\n",
    "print('more than 8 ptiches: {:0.4f}'.format(data[data.pitchcount > 8].pitchcount.sum()/data.pitchcount.sum()))"
   ]
  },
  {
   "cell_type": "markdown",
   "metadata": {},
   "source": [
    "So more than 8 pitches in this case would be considered an outlier."
   ]
  },
  {
   "cell_type": "code",
   "execution_count": 43,
   "metadata": {},
   "outputs": [
    {
     "data": {
      "image/png": "[encoded data removed]",
      "text/plain": [
       "<Figure size 432x288 with 1 Axes>"
      ]
     },
     "metadata": {
      "needs_background": "light"
     },
     "output_type": "display_data"
    }
   ],
   "source": [
    "(pitchcounts/pitchcounts.sum()).plot()\n",
    "plt.xlabel('Number of pitches')\n",
    "plt.ylabel('Percent (%)')\n",
    "plt.xticks([0,5,10,15,20])\n",
    "plt.title('Distribution of number Pitches per play');"
   ]
  },
  {
   "cell_type": "code",
   "execution_count": 45,
   "metadata": {},
   "outputs": [
    {
     "data": {
      "image/png": "[encoded data removed]",
      "text/plain": [
       "<Figure size 432x288 with 1 Axes>"
      ]
     },
     "metadata": {
      "needs_background": "light"
     },
     "output_type": "display_data"
    }
   ],
   "source": [
    "data.pitchcount.hist(bins=list(range(1,22)), density=True);\n",
    "plt.xticks(list(range(22)))\n",
    "plt.title('Histogram of number pitches per event')\n",
    "plt.xlabel('Number of pitches')\n",
    "plt.ylabel('Percent (%)');"
   ]
  },
  {
   "cell_type": "code",
   "execution_count": null,
   "metadata": {},
   "outputs": [],
   "source": []
  }
 ],
 "metadata": {
  "kernelspec": {
   "display_name": "Python 3",
   "language": "python",
   "name": "python3"
  },
  "language_info": {
   "codemirror_mode": {
    "name": "ipython",
    "version": 3
   },
   "file_extension": ".py",
   "mimetype": "text/x-python",
   "name": "python",
   "nbconvert_exporter": "python",
   "pygments_lexer": "ipython3",
   "version": "3.7.3"
  },
  "toc-autonumbering": false,
  "toc-showcode": false,
  "toc-showmarkdowntxt": false,
  "toc-showtags": false
 },
 "nbformat": 4,
 "nbformat_minor": 4
}
