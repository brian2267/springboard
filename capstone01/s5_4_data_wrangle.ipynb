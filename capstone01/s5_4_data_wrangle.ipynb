{
 "cells": [
  {
   "cell_type": "markdown",
   "metadata": {},
   "source": [
    "## Capstone 1: Analyzing Pitch Sequence Data in Baseball from Retrosheets.org"
   ]
  },
  {
   "cell_type": "markdown",
   "metadata": {},
   "source": [
    "### $\\S$5.4 Data Wrangling\n",
    "\n",
    "*submitted by Brian Camp*"
   ]
  },
  {
   "cell_type": "markdown",
   "metadata": {},
   "source": [
    "This project is designed around event data for MLB Baseball games that can be downloaded from **https://www.retrosheet.org**. At that site, there are also some tools provided that help with the preprocessing some of the data.\n",
    "\n",
    "In this project, data will from 2010 through 2019 will be processed. The goal of this part of the project is to produce a pandas DataFrame (or several) that will combine all of the desired data from the years 2010 through 2018. As a brief preview, there are 30 event files for each year. Each event file has approximately 6000 separate events (all of the plate appearances that happened in that location). So in each year there are about $30\\times6000 \\approx 180000$ separate events. Finally for the nine years to be considered this means that there will be around 1.8 million rows of data (each row representing a different event in a baseball game)."
   ]
  },
  {
   "cell_type": "markdown",
   "metadata": {},
   "source": [
    "**Retrosheets.org**<br>\n",
    "Data is given as event files named either <code>filename.evn</code> or <code>filename.eva</code>. These files are processed using the utility <code>bevent.exe</code> which is command line utility in Windows. The general format of an event file is given as <code>yyyyloc.eva</code> where the **yyyy** stands of the year, the **loc** stands for the home team (or home stadium) and the ending (either <code>.eva</code> or <code>.evn</code> stands for American League or National League respectively."
   ]
  },
  {
   "cell_type": "markdown",
   "metadata": {},
   "source": [
    "From **https://www.retrosheet.org/notice.txt**\n",
    "<pre>\n",
    "Recipients of Retrosheet data are free to make any desired use of\n",
    "the information, including (but not limited to) selling it,\n",
    "giving it away, or producing a commercial product based upon the\n",
    "data.  Retrosheet has one requirement for any such transfer of\n",
    "data or product development, which is that the following\n",
    "statement must appear prominently:\n",
    "\n",
    "     The information used here was obtained free of\n",
    "     charge from and is copyrighted by Retrosheet.  Interested\n",
    "     parties may contact Retrosheet at \"www.retrosheet.org\".\n",
    "\n",
    "Retrosheet makes no guarantees of accuracy for the information \n",
    "that is supplied. Much effort is expended to make our website \n",
    "as correct as possible, but Retrosheet shall not be held \n",
    "responsible for any consequences arising from the use the \n",
    "material presented here. All information is subject to corrections \n",
    "as additional data are received. We are grateful to anyone who\n",
    "discovers discrepancies and we appreciate learning of the details.\n",
    "</pre>"
   ]
  },
  {
   "cell_type": "markdown",
   "metadata": {},
   "source": [
    "**Importing packages to be used in processing or otherwise**"
   ]
  },
  {
   "cell_type": "code",
   "execution_count": 1,
   "metadata": {},
   "outputs": [],
   "source": [
    "import matplotlib.pyplot as plt\n",
    "import seaborn as sns\n",
    "import numpy as np\n",
    "import pandas as pd\n",
    "import itertools as itr\n",
    "import collections as coll\n",
    "import re\n",
    "import os\n",
    "import subprocess\n",
    "import pickle"
   ]
  },
  {
   "cell_type": "markdown",
   "metadata": {},
   "source": [
    "Here the base directory is created. This will allow for sub-directories for the retrosheet data and the resulting processed data to be stored."
   ]
  },
  {
   "cell_type": "code",
   "execution_count": 2,
   "metadata": {},
   "outputs": [],
   "source": [
    "basedir = os.getcwd()"
   ]
  },
  {
   "cell_type": "markdown",
   "metadata": {},
   "source": [
    "The <code>subprocess.run()</code> function will allow the <code>*.exe</code> files to be run from within python. This will also allow for the commands to be run multiple times within a loop. This is necessary as the will be 270 event files to be processed (30 event files per year for 9 years worth of data).\n",
    "\n",
    "By using the <code>os.getcwd()</code> command and the <code>subprocess.run()</code> command, this will also make this process repeatable for other years if it is desired without too much modification required in the code."
   ]
  },
  {
   "cell_type": "code",
   "execution_count": 5,
   "metadata": {},
   "outputs": [
    {
     "name": "stdout",
     "output_type": "stream",
     "text": [
      "This will run in the background command window where the Jupyter kernel is running.\n"
     ]
    },
    {
     "data": {
      "text/plain": [
       "CompletedProcess(args=['retro/bevent.exe', '-h'], returncode=1)"
      ]
     },
     "execution_count": 5,
     "metadata": {},
     "output_type": "execute_result"
    }
   ],
   "source": [
    "os.chdir(basedir)\n",
    "print('This will run in the background command window where the Jupyter kernel is running.')\n",
    "\n",
    "subprocess.run(['retro/bevent.exe','-h'])"
   ]
  },
  {
   "cell_type": "markdown",
   "metadata": {},
   "source": [
    "**Creating .csv files: retro_to_csv() function**\n",
    "\n",
    "The function <code>retro_to_csv()</code> function is created. Its purpose is to run the <code>bevent.exe</code> command on one <code>.eva</code> or <code>.evn</code> event file and output a <code>.csv</code> file.\n",
    "    \n",
    "It is important to note that this command should be run in the same directory where the <code>bevent.exe</code> file is. In this case, the retrosheet.org data and the <code>bevent.exe</code> file will be kept in the <code>retro</code> subdirectory. Later, when the command is run in a loop, the <code>.csv</code> output files will be put in the <code>data</code> subdirectory."
   ]
  },
  {
   "cell_type": "code",
   "execution_count": 16,
   "metadata": {},
   "outputs": [],
   "source": [
    "def retro_to_csv(fields, teamname, \n",
    "                 startdate = '', enddate = '', \n",
    "                 outputfile = '', \n",
    "                 output = 1, verbose = 1):\n",
    "    # teamnane in format \"yyyyloc.eva or .evn\"\n",
    "    # yyyy is the year, startdate: '-s mmdd', enddate: '-e mmdd'\n",
    "    # loc is the stadium location\n",
    "    # eva for american league stadium, evn for national league stadium\n",
    "    batchname = 'bevent.exe'\n",
    "    year = ' '.join(['-y',teamname[:4]])\n",
    "\n",
    "    if outputfile == '':\n",
    "        outputfile = ''.join([teamname[:7],'.csv']);\n",
    "        \n",
    "    strlist = [batchname, year, startdate, enddate, fields, teamname, '>', outputfile]\n",
    "    batch_str = ' '.join(strlist)\n",
    "\n",
    "    if verbose:\n",
    "        print(batch_str)\n",
    "        \n",
    "    if output:\n",
    "        subprocess.run(batch_str, shell=True)\n",
    "        \n",
    "    return outputfile"
   ]
  },
  {
   "cell_type": "markdown",
   "metadata": {},
   "source": [
    "**Initializing the data folder**\n",
    "\n",
    "Here all <code>.csv</code> files that may be in the data folder are erased. This will prevent any errors when the <code>bevent.exe</code> file is run\n",
    "using <code>subprocess.run()</code>.\n",
    "\n",
    "The command <code>os.listdir()</code> returns a list of files in the current working directory which we loop over in this case. If the last four characters of a filename are **.csv** then that file is deleted using <code>os.remove()</code>."
   ]
  },
  {
   "cell_type": "code",
   "execution_count": 17,
   "metadata": {},
   "outputs": [
    {
     "data": {
      "text/plain": [
       "['.ipynb_checkpoints']"
      ]
     },
     "execution_count": 17,
     "metadata": {},
     "output_type": "execute_result"
    }
   ],
   "source": [
    "os.chdir(basedir)\n",
    "os.chdir('data')\n",
    "for eachfile in os.listdir():\n",
    "    if eachfile[-4:]=='.csv':\n",
    "        os.remove(eachfile)\n",
    "\n",
    "#print(os.getcwd())\n",
    "os.listdir()"
   ]
  },
  {
   "cell_type": "markdown",
   "metadata": {},
   "source": [
    "**Creating lists and dictionaries by year**\n",
    "\n",
    "A list of the years is created first. Then a dictionary is created with a list of events for each year. This provides for efficient processing by year of the event files. If the output DataFrame turns out to be too large, this will also allow for creating DataFrames by each year and also allowing for easy processing of teams within a given year based upon the dictionary if needed. The effort here is to make the process somewhat modular so that flexibility is in place if later processing requires it."
   ]
  },
  {
   "cell_type": "markdown",
   "metadata": {},
   "source": [
    "$\\triangleright$ A list of year names."
   ]
  },
  {
   "cell_type": "code",
   "execution_count": 18,
   "metadata": {},
   "outputs": [
    {
     "name": "stdout",
     "output_type": "stream",
     "text": [
      "['2010', '2011', '2012', '2013', '2014', '2015', '2016', '2017', '2018']\n"
     ]
    }
   ],
   "source": [
    "yearlist = [str(each) for each in range(2010,2019)]\n",
    "print(yearlist)"
   ]
  },
  {
   "cell_type": "markdown",
   "metadata": {},
   "source": [
    "$\\triangleright$ Creating the dictionary of events by year."
   ]
  },
  {
   "cell_type": "code",
   "execution_count": 19,
   "metadata": {},
   "outputs": [
    {
     "name": "stdout",
     "output_type": "stream",
     "text": [
      "For example, the keys of the dictionary are the list of years.\n",
      "dict_keys(['2010', '2011', '2012', '2013', '2014', '2015', '2016', '2017', '2018'])\n",
      "\n",
      "And for the year 2012 we have:\n",
      "\n",
      "['2012ANA.EVA', '2012ARI.EVN', '2012ATL.EVN', '2012BAL.EVA', '2012BOS.EVA', '2012CHA.EVA', '2012CHN.EVN', '2012CIN.EVN', '2012CLE.EVA', '2012COL.EVN', '2012DET.EVA', '2012HOU.EVN', '2012KCA.EVA', '2012LAN.EVN', '2012MIA.EVN', '2012MIL.EVN', '2012MIN.EVA', '2012NYA.EVA', '2012NYN.EVN', '2012OAK.EVA', '2012PHI.EVN', '2012PIT.EVN', '2012SDN.EVN', '2012SEA.EVA', '2012SFN.EVN', '2012SLN.EVN', '2012TBA.EVA', '2012TEX.EVA', '2012TOR.EVA', '2012WAS.EVN']\n"
     ]
    }
   ],
   "source": [
    "os.chdir(basedir)\n",
    "os.chdir('retro')\n",
    "\n",
    "retro_event_list = os.listdir()\n",
    "fields = '-f 0-17,26-51,58-61'\n",
    "\n",
    "events = coll.defaultdict(list)\n",
    "\n",
    "for yr in yearlist:\n",
    "    events[yr]= [team for team in retro_event_list \n",
    "                 if team[:4]==yr and (team[-4:].lower()=='.eva' or team[-4:].lower()=='.evn')]\n",
    "\n",
    "print('For example, the keys of the dictionary are the list of years.')\n",
    "print(events.keys(),end='\\n\\n')\n",
    "\n",
    "print('And for the year 2012 we have:\\n')\n",
    "print(events['2012'])"
   ]
  },
  {
   "cell_type": "markdown",
   "metadata": {},
   "source": [
    "**Looping to create the <code>.csv</code> files** \n",
    "\n",
    "During the process, the names of the <code>.csv</code> files are stored in a dictionary by the year in which they occur."
   ]
  },
  {
   "cell_type": "code",
   "execution_count": 24,
   "metadata": {},
   "outputs": [
    {
     "name": "stdout",
     "output_type": "stream",
     "text": [
      "Wall time: 27.1 s\n"
     ]
    }
   ],
   "source": [
    "%%time\n",
    "os.chdir(basedir)\n",
    "os.chdir('retro')\n",
    "\n",
    "# these are the fields that will be chosen for each event\n",
    "# (i.e which columns to select) ... more on their meaning below\n",
    "fields = '-f 0-17,26-51,58-61' # no spaces\n",
    "\n",
    "for each in os.listdir():\n",
    "    \n",
    "    league = each[-3:].lower()\n",
    "    year = each[:4]\n",
    "    \n",
    "    if (league == 'eva' or league == 'evn') and year in yearlist:\n",
    "        \n",
    "        outfile = ''.join(['../data/',each.replace('.','_').lower(),'.csv'])\n",
    "        retro_to_csv(fields, each, outputfile=outfile, verbose=0)"
   ]
  },
  {
   "cell_type": "markdown",
   "metadata": {},
   "source": [
    "**Creating DataFrames**"
   ]
  },
  {
   "cell_type": "markdown",
   "metadata": {},
   "source": [
    "The <code>fields</code> variable described which columns were to be used by the <code>bevent.exe</code> command. Below is a list of names representing the information in each column. This list will be used to create the headings in the subsequent data frames. Also, since each <code>.csv</code> file will have the same column headings, using <code>pd.merge()</code> to combine the .csv files will be straightforward."
   ]
  },
  {
   "cell_type": "markdown",
   "metadata": {},
   "source": [
    "$\\triangleright$ The <code>fields</code> variable - list of column names."
   ]
  },
  {
   "cell_type": "code",
   "execution_count": 25,
   "metadata": {},
   "outputs": [
    {
     "data": {
      "text/plain": [
       "48"
      ]
     },
     "execution_count": 25,
     "metadata": {},
     "output_type": "execute_result"
    }
   ],
   "source": [
    "# columns imported: names\n",
    "# columns 0-17,26-51,58-61  # no spaces when inputting below\n",
    "colnames = ['gameid', 'awayteam', 'inning', 'teamatbat', 'outs', #0-4\n",
    "              'balls', 'strikes', 'pitches', 'scoreaway', 'scorehome', #5-9\n",
    "              'batter', 'batterhand', 'resbatter', 'resbatterhand', 'pitcher', #10-14\n",
    "              'pitcherhand', 'respitcher', 'respitcherhand', #15-17\n",
    "              'runner01', 'runner02', 'runner03', 'eventtext', 'leadoffflag', #26-30\n",
    "              'pinchhitflag', 'batterpos', 'lineupposition', 'eventtype', 'plateappoverflag', #31-35\n",
    "              'abflag', 'hitvalue', 'SHflag', 'SFflag', 'outsresult', #36-40\n",
    "              'doubleplayflag', 'tripleplayflag', 'rbiresult', 'wildflag', 'passedflag', #41-45\n",
    "              'fieldedby', 'battedballtype', 'buntflag', 'foulflag', 'hitlocation', #46-50\n",
    "              'numberrors', 'destbatter', 'dest01', 'dest02', 'dest03'] #51, 58-61\n",
    "len(colnames)"
   ]
  },
  {
   "cell_type": "markdown",
   "metadata": {},
   "source": [
    "$\\triangleright$ looping to create large dataframe\n",
    "\n",
    "The smaller DataFrames are created using <code>pd.read_csv()</code>. Then the larger DataFrame is constructed using <code>pd.concat()</code>."
   ]
  },
  {
   "cell_type": "code",
   "execution_count": 26,
   "metadata": {},
   "outputs": [
    {
     "name": "stdout",
     "output_type": "stream",
     "text": [
      "\"data\" variable not present.\n",
      "(1717976, 48)\n",
      "Index(['gameid', 'awayteam', 'inning', 'teamatbat', 'outs', 'balls', 'strikes',\n",
      "       'pitches', 'scoreaway', 'scorehome', 'batter', 'batterhand',\n",
      "       'resbatter', 'resbatterhand', 'pitcher', 'pitcherhand', 'respitcher',\n",
      "       'respitcherhand', 'runner01', 'runner02', 'runner03', 'eventtext',\n",
      "       'leadoffflag', 'pinchhitflag', 'batterpos', 'lineupposition',\n",
      "       'eventtype', 'plateappoverflag', 'abflag', 'hitvalue', 'SHflag',\n",
      "       'SFflag', 'outsresult', 'doubleplayflag', 'tripleplayflag', 'rbiresult',\n",
      "       'wildflag', 'passedflag', 'fieldedby', 'battedballtype', 'buntflag',\n",
      "       'foulflag', 'hitlocation', 'numberrors', 'destbatter', 'dest01',\n",
      "       'dest02', 'dest03'],\n",
      "      dtype='object')\n",
      "Wall time: 4min 57s\n"
     ]
    }
   ],
   "source": [
    "%%time\n",
    "os.chdir(basedir)\n",
    "os.chdir('data')\n",
    "\n",
    "# initializing the dataframe\n",
    "try:\n",
    "    del data\n",
    "except:\n",
    "    print('\"data\" variable not present.')\n",
    "    \n",
    "data = pd.DataFrame(data=None, columns=colnames)\n",
    "\n",
    "# now creating the individual dataframes and combining then using pd.concat\n",
    "for each in os.listdir():\n",
    "    \n",
    "    if each[-4:]=='.csv':\n",
    "        \n",
    "        #print('processing: ',each)\n",
    "        df = pd.read_csv(each, names=colnames)\n",
    "        data = pd.concat([data, df], ignore_index=True)\n",
    "\n",
    "        \n",
    "print(data.shape)\n",
    "print(data.columns)"
   ]
  },
  {
   "cell_type": "markdown",
   "metadata": {},
   "source": [
    "**An overview of the DataFrame.**"
   ]
  },
  {
   "cell_type": "code",
   "execution_count": 27,
   "metadata": {},
   "outputs": [
    {
     "name": "stdout",
     "output_type": "stream",
     "text": [
      "<class 'pandas.core.frame.DataFrame'>\n",
      "RangeIndex: 1717976 entries, 0 to 1717975\n",
      "Data columns (total 48 columns):\n",
      "gameid              object\n",
      "awayteam            object\n",
      "inning              object\n",
      "teamatbat           object\n",
      "outs                object\n",
      "balls               object\n",
      "strikes             object\n",
      "pitches             object\n",
      "scoreaway           object\n",
      "scorehome           object\n",
      "batter              object\n",
      "batterhand          object\n",
      "resbatter           object\n",
      "resbatterhand       object\n",
      "pitcher             object\n",
      "pitcherhand         object\n",
      "respitcher          object\n",
      "respitcherhand      object\n",
      "runner01            object\n",
      "runner02            object\n",
      "runner03            object\n",
      "eventtext           object\n",
      "leadoffflag         object\n",
      "pinchhitflag        object\n",
      "batterpos           object\n",
      "lineupposition      object\n",
      "eventtype           object\n",
      "plateappoverflag    object\n",
      "abflag              object\n",
      "hitvalue            object\n",
      "SHflag              object\n",
      "SFflag              object\n",
      "outsresult          object\n",
      "doubleplayflag      object\n",
      "tripleplayflag      object\n",
      "rbiresult           object\n",
      "wildflag            object\n",
      "passedflag          object\n",
      "fieldedby           object\n",
      "battedballtype      object\n",
      "buntflag            object\n",
      "foulflag            object\n",
      "hitlocation         object\n",
      "numberrors          object\n",
      "destbatter          object\n",
      "dest01              object\n",
      "dest02              object\n",
      "dest03              object\n",
      "dtypes: object(48)\n",
      "memory usage: 629.1+ MB\n"
     ]
    }
   ],
   "source": [
    "data.info()"
   ]
  },
  {
   "cell_type": "code",
   "execution_count": 29,
   "metadata": {},
   "outputs": [
    {
     "data": {
      "text/html": [
       "<div>\n",
       "<style scoped>\n",
       "    .dataframe tbody tr th:only-of-type {\n",
       "        vertical-align: middle;\n",
       "    }\n",
       "\n",
       "    .dataframe tbody tr th {\n",
       "        vertical-align: top;\n",
       "    }\n",
       "\n",
       "    .dataframe thead th {\n",
       "        text-align: right;\n",
       "    }\n",
       "</style>\n",
       "<table border=\"1\" class=\"dataframe\">\n",
       "  <thead>\n",
       "    <tr style=\"text-align: right;\">\n",
       "      <th></th>\n",
       "      <th>gameid</th>\n",
       "      <th>awayteam</th>\n",
       "      <th>inning</th>\n",
       "      <th>teamatbat</th>\n",
       "      <th>outs</th>\n",
       "      <th>balls</th>\n",
       "      <th>strikes</th>\n",
       "      <th>pitches</th>\n",
       "      <th>scoreaway</th>\n",
       "      <th>scorehome</th>\n",
       "      <th>...</th>\n",
       "      <th>fieldedby</th>\n",
       "      <th>battedballtype</th>\n",
       "      <th>buntflag</th>\n",
       "      <th>foulflag</th>\n",
       "      <th>hitlocation</th>\n",
       "      <th>numberrors</th>\n",
       "      <th>destbatter</th>\n",
       "      <th>dest01</th>\n",
       "      <th>dest02</th>\n",
       "      <th>dest03</th>\n",
       "    </tr>\n",
       "  </thead>\n",
       "  <tbody>\n",
       "    <tr>\n",
       "      <th>0</th>\n",
       "      <td>ANA201004050</td>\n",
       "      <td>MIN</td>\n",
       "      <td>1</td>\n",
       "      <td>0</td>\n",
       "      <td>0</td>\n",
       "      <td>2</td>\n",
       "      <td>2</td>\n",
       "      <td>CSBFFBFC</td>\n",
       "      <td>0</td>\n",
       "      <td>0</td>\n",
       "      <td>...</td>\n",
       "      <td>0</td>\n",
       "      <td>NaN</td>\n",
       "      <td>F</td>\n",
       "      <td>F</td>\n",
       "      <td>NaN</td>\n",
       "      <td>0</td>\n",
       "      <td>0</td>\n",
       "      <td>0</td>\n",
       "      <td>0</td>\n",
       "      <td>0</td>\n",
       "    </tr>\n",
       "    <tr>\n",
       "      <th>1</th>\n",
       "      <td>ANA201004050</td>\n",
       "      <td>MIN</td>\n",
       "      <td>1</td>\n",
       "      <td>0</td>\n",
       "      <td>1</td>\n",
       "      <td>0</td>\n",
       "      <td>1</td>\n",
       "      <td>FX</td>\n",
       "      <td>0</td>\n",
       "      <td>0</td>\n",
       "      <td>...</td>\n",
       "      <td>4</td>\n",
       "      <td>G</td>\n",
       "      <td>F</td>\n",
       "      <td>F</td>\n",
       "      <td>NaN</td>\n",
       "      <td>0</td>\n",
       "      <td>0</td>\n",
       "      <td>0</td>\n",
       "      <td>0</td>\n",
       "      <td>0</td>\n",
       "    </tr>\n",
       "    <tr>\n",
       "      <th>2</th>\n",
       "      <td>ANA201004050</td>\n",
       "      <td>MIN</td>\n",
       "      <td>1</td>\n",
       "      <td>0</td>\n",
       "      <td>2</td>\n",
       "      <td>1</td>\n",
       "      <td>1</td>\n",
       "      <td>CBX</td>\n",
       "      <td>0</td>\n",
       "      <td>0</td>\n",
       "      <td>...</td>\n",
       "      <td>4</td>\n",
       "      <td>G</td>\n",
       "      <td>F</td>\n",
       "      <td>F</td>\n",
       "      <td>NaN</td>\n",
       "      <td>0</td>\n",
       "      <td>0</td>\n",
       "      <td>0</td>\n",
       "      <td>0</td>\n",
       "      <td>0</td>\n",
       "    </tr>\n",
       "    <tr>\n",
       "      <th>3</th>\n",
       "      <td>ANA201004050</td>\n",
       "      <td>MIN</td>\n",
       "      <td>1</td>\n",
       "      <td>1</td>\n",
       "      <td>0</td>\n",
       "      <td>3</td>\n",
       "      <td>2</td>\n",
       "      <td>BBCCFBFFFB</td>\n",
       "      <td>0</td>\n",
       "      <td>0</td>\n",
       "      <td>...</td>\n",
       "      <td>0</td>\n",
       "      <td>NaN</td>\n",
       "      <td>F</td>\n",
       "      <td>F</td>\n",
       "      <td>NaN</td>\n",
       "      <td>0</td>\n",
       "      <td>1</td>\n",
       "      <td>0</td>\n",
       "      <td>0</td>\n",
       "      <td>0</td>\n",
       "    </tr>\n",
       "    <tr>\n",
       "      <th>4</th>\n",
       "      <td>ANA201004050</td>\n",
       "      <td>MIN</td>\n",
       "      <td>1</td>\n",
       "      <td>1</td>\n",
       "      <td>0</td>\n",
       "      <td>0</td>\n",
       "      <td>1</td>\n",
       "      <td>CX</td>\n",
       "      <td>0</td>\n",
       "      <td>0</td>\n",
       "      <td>...</td>\n",
       "      <td>8</td>\n",
       "      <td>F</td>\n",
       "      <td>F</td>\n",
       "      <td>F</td>\n",
       "      <td>NaN</td>\n",
       "      <td>0</td>\n",
       "      <td>0</td>\n",
       "      <td>1</td>\n",
       "      <td>0</td>\n",
       "      <td>0</td>\n",
       "    </tr>\n",
       "  </tbody>\n",
       "</table>\n",
       "<p>5 rows × 48 columns</p>\n",
       "</div>"
      ],
      "text/plain": [
       "         gameid awayteam inning teamatbat outs balls strikes     pitches  \\\n",
       "0  ANA201004050      MIN      1         0    0     2       2    CSBFFBFC   \n",
       "1  ANA201004050      MIN      1         0    1     0       1          FX   \n",
       "2  ANA201004050      MIN      1         0    2     1       1         CBX   \n",
       "3  ANA201004050      MIN      1         1    0     3       2  BBCCFBFFFB   \n",
       "4  ANA201004050      MIN      1         1    0     0       1          CX   \n",
       "\n",
       "  scoreaway scorehome  ... fieldedby battedballtype buntflag foulflag  \\\n",
       "0         0         0  ...         0            NaN        F        F   \n",
       "1         0         0  ...         4              G        F        F   \n",
       "2         0         0  ...         4              G        F        F   \n",
       "3         0         0  ...         0            NaN        F        F   \n",
       "4         0         0  ...         8              F        F        F   \n",
       "\n",
       "  hitlocation numberrors destbatter dest01 dest02 dest03  \n",
       "0         NaN          0          0      0      0      0  \n",
       "1         NaN          0          0      0      0      0  \n",
       "2         NaN          0          0      0      0      0  \n",
       "3         NaN          0          1      0      0      0  \n",
       "4         NaN          0          0      1      0      0  \n",
       "\n",
       "[5 rows x 48 columns]"
      ]
     },
     "execution_count": 29,
     "metadata": {},
     "output_type": "execute_result"
    }
   ],
   "source": [
    "data.head()"
   ]
  },
  {
   "cell_type": "markdown",
   "metadata": {},
   "source": [
    "**Pickling the DataFrame for later use**"
   ]
  },
  {
   "cell_type": "code",
   "execution_count": 28,
   "metadata": {},
   "outputs": [
    {
     "name": "stdout",
     "output_type": "stream",
     "text": [
      "Wall time: 4.17 s\n"
     ]
    }
   ],
   "source": [
    "%%time\n",
    "os.chdir(basedir)\n",
    "os.chdir('data')\n",
    "\n",
    "data.to_pickle('retro_mlb_dataframe.pickle')"
   ]
  }
 ],
 "metadata": {
  "kernelspec": {
   "display_name": "Python 3",
   "language": "python",
   "name": "python3"
  },
  "language_info": {
   "codemirror_mode": {
    "name": "ipython",
    "version": 3
   },
   "file_extension": ".py",
   "mimetype": "text/x-python",
   "name": "python",
   "nbconvert_exporter": "python",
   "pygments_lexer": "ipython3",
   "version": "3.6.8"
  }
 },
 "nbformat": 4,
 "nbformat_minor": 2
}
