{
 "cells": [
  {
   "cell_type": "markdown",
   "metadata": {},
   "source": [
    "### Submitted by Brian Camp"
   ]
  },
  {
   "cell_type": "markdown",
   "metadata": {},
   "source": [
    "original file name:<br>\n",
    "`sliderule_dsi_inferential_statistics_exercise_1.ipynb`"
   ]
  },
  {
   "cell_type": "markdown",
   "metadata": {
    "toc-hr-collapsed": false
   },
   "source": [
    "# $\\S$8-3-1 What is the True Normal Human Body Temperature? \n",
    "\n",
    "#### Background\n",
    "\n",
    "The mean normal body temperature was held to be 37$^{\\circ}$C or 98.6$^{\\circ}$F for more than 120 years since it was first conceptualized and reported by Carl Wunderlich in a famous 1868 book. But, is this value statistically correct?"
   ]
  },
  {
   "cell_type": "markdown",
   "metadata": {
    "toc-hr-collapsed": false
   },
   "source": [
    "<h3>Exercises</h3>\n",
    "\n",
    "<p>In this exercise, you will analyze a dataset of human body temperatures and employ the concepts of hypothesis testing, confidence intervals, and statistical significance.</p>\n",
    "\n",
    "<p>Answer the following questions <b>in this notebook below and submit to your Github account</b>.</p> \n",
    "\n",
    "<ol>\n",
    "<li>  Is the distribution of body temperatures normal? \n",
    "    <ul>\n",
    "    <li> Although this is not a requirement for the Central Limit Theorem to hold (read the introduction on Wikipedia's page about the CLT carefully: https://en.wikipedia.org/wiki/Central_limit_theorem), it gives us some peace of mind that the population may also be normally distributed if we assume that this sample is representative of the population.\n",
    "    <li> Think about the way you're going to check for the normality of the distribution. Graphical methods are usually used first, but there are also other ways: https://en.wikipedia.org/wiki/Normality_test\n",
    "    </ul>\n",
    "<li>  Is the sample size large? Are the observations independent?\n",
    "    <ul>\n",
    "    <li> Remember that this is a condition for the Central Limit Theorem, and hence the statistical tests we are using, to apply.\n",
    "    </ul>\n",
    "<li>  Is the true population mean really 98.6 degrees F?\n",
    "    <ul>\n",
    "    <li> First, try a bootstrap hypothesis test.\n",
    "    <li> Now, let's try frequentist statistical testing. Would you use a one-sample or two-sample test? Why?\n",
    "    <li> In this situation, is it appropriate to use the $t$ or $z$ statistic? \n",
    "    <li> Now try using the other test. How is the result be different? Why?\n",
    "    </ul>\n",
    "<li>  Draw a small sample of size 10 from the data and repeat both frequentist tests. \n",
    "    <ul>\n",
    "    <li> Which one is the correct one to use? \n",
    "    <li> What do you notice? What does this tell you about the difference in application of the $t$ and $z$ statistic?\n",
    "    </ul>\n",
    "<li>  At what temperature should we consider someone's temperature to be \"abnormal\"?\n",
    "    <ul>\n",
    "    <li> As in the previous example, try calculating everything using the boostrap approach, as well as the frequentist approach.\n",
    "    <li> Start by computing the margin of error and confidence interval. When calculating the confidence interval, keep in mind that you should use the appropriate formula for one draw, and not N draws.\n",
    "    </ul>\n",
    "<li>  Is there a significant difference between males and females in normal temperature?\n",
    "    <ul>\n",
    "    <li> What testing approach did you use and why?\n",
    "    <li> Write a story with your conclusion in the context of the original problem.\n",
    "    </ul>\n",
    "</ol>\n",
    "\n",
    "You can include written notes in notebook cells using Markdown: \n",
    "   - In the control panel at the top, choose Cell > Cell Type > Markdown\n",
    "   - Markdown syntax: http://nestacms.com/docs/creating-content/markdown-cheat-sheet\n",
    "\n",
    "#### Resources\n",
    "\n",
    "+ Information and data sources: http://www.amstat.org/publications/jse/datasets/normtemp.txt, http://www.amstat.org/publications/jse/jse_data_archive.htm\n",
    "+ Markdown syntax: http://nestacms.com/docs/creating-content/markdown-cheat-sheet\n",
    "\n",
    "****"
   ]
  },
  {
   "cell_type": "code",
   "execution_count": 1,
   "metadata": {},
   "outputs": [],
   "source": [
    "import matplotlib.pyplot as plt\n",
    "import numpy as np\n",
    "import pandas as pd\n",
    "import seaborn as sns\n",
    "from scipy import stats\n",
    "import statsmodels.api as sm"
   ]
  },
  {
   "cell_type": "code",
   "execution_count": 2,
   "metadata": {},
   "outputs": [],
   "source": [
    "df = pd.read_csv('data/human_body_temperature.csv')"
   ]
  },
  {
   "cell_type": "markdown",
   "metadata": {},
   "source": [
    "## 1. Is the distribution of body temperatures normal? \n",
    "<ul>\n",
    "    <li> Although this is not a requirement for the Central Limit Theorem to hold (read the introduction on Wikipedia's page about the CLT carefully: https://en.wikipedia.org/wiki/Central_limit_theorem), it gives us some peace of mind that the population may also be normally distributed if we assume that this sample is representative of the population.\n",
    "    <li> Think about the way you're going to check for the normality of the distribution. Graphical methods are usually used first, but there are also other ways: https://en.wikipedia.org/wiki/Normality_test\n",
    "</ul>"
   ]
  },
  {
   "cell_type": "markdown",
   "metadata": {},
   "source": [
    "<b><u>Answer:</u></b>"
   ]
  },
  {
   "cell_type": "markdown",
   "metadata": {},
   "source": [
    "To determine if the distribution is normal, both graphical evidence and a $p$-value from the Anderson-Darling test will be considered.\n",
    "\n",
    "The quickest graphical evidence to check is the histogram of the data. This is done below using the `plt.hist()` command with a range of bin sizes to avoid any potential binning bias (i.e. potentially misrepresenting the distribution due to the bin size being chosen)."
   ]
  },
  {
   "cell_type": "code",
   "execution_count": 3,
   "metadata": {},
   "outputs": [],
   "source": [
    "sns.set() # setting seaborn styling"
   ]
  },
  {
   "cell_type": "code",
   "execution_count": 4,
   "metadata": {},
   "outputs": [
    {
     "data": {
      "image/png": "[encoded data removed]",
      "text/plain": [
       "<Figure size 576x432 with 4 Axes>"
      ]
     },
     "metadata": {},
     "output_type": "display_data"
    }
   ],
   "source": [
    "# Combined data for male/female measurements\n",
    "binlist=[5,10,20,50]\n",
    "\n",
    "plt.subplots(2,2,figsize=(8,6));\n",
    "for (pos,num) in enumerate(binlist):\n",
    "    plt.subplot(2,2,pos+1)\n",
    "    plt.hist(x='temperature',data=df,bins=num)\n",
    "    plt.xlabel('temperature')\n",
    "    plt.ylabel('count')\n",
    "    plt.title('bins={:d}'.format(num))\n",
    "\n",
    "plt.subplots_adjust(hspace=0.5,wspace=0.25)\n",
    "plt.suptitle('Male/Female Body Temperature Distribution\\n (different bin sizes)')\n",
    "plt.show()"
   ]
  },
  {
   "cell_type": "markdown",
   "metadata": {},
   "source": [
    "<b>The histogram of the temperature appears to be approximately normal.</b>"
   ]
  },
  {
   "cell_type": "markdown",
   "metadata": {},
   "source": [
    "Other visual ways to compare the data include comparing the empirical CDF of the data to the normal distribution and showing the qq-plot of the data compared with the normal distribution (i.e. how do quantiles of the distribution match up with the quantiles of the normal distribution).\n",
    "\n",
    "For the normal distribution below, the functions used are `stats.norm.cdf()` and `sm.graphics.qqplot`."
   ]
  },
  {
   "cell_type": "markdown",
   "metadata": {},
   "source": [
    "The function `ecdf()` function defined below will give the empirical CDF for a list of data which can then be plotted using `plt.plot()`."
   ]
  },
  {
   "cell_type": "code",
   "execution_count": 5,
   "metadata": {},
   "outputs": [],
   "source": [
    "def ecdf(data):\n",
    "    # number of data points\n",
    "    n = len(data)\n",
    "    \n",
    "    # x-values: sorted data\n",
    "    x = np.sort(data)\n",
    "    \n",
    "    # y-values: percentiles\n",
    "    y = np.arange(1, n + 1)/n\n",
    "    \n",
    "    return x, y"
   ]
  },
  {
   "cell_type": "markdown",
   "metadata": {},
   "source": [
    "The empirical CDF of the data compared to the normal distribution."
   ]
  },
  {
   "cell_type": "code",
   "execution_count": 6,
   "metadata": {},
   "outputs": [
    {
     "data": {
      "image/png": "[encoded data removed]",
      "text/plain": [
       "<Figure size 432x288 with 1 Axes>"
      ]
     },
     "metadata": {},
     "output_type": "display_data"
    }
   ],
   "source": [
    "x, y = ecdf(df.temperature)\n",
    "\n",
    "xbar = df.temperature.mean()\n",
    "sx = df.temperature.std()\n",
    "\n",
    "#x1, y1 = ecdf(np.random.normal(loc=xbar, scale=sx, size=df.temperature.size))\n",
    "xnorm = xbar + np.arange(-3,3,0.01)\n",
    "ynorm = stats.norm.cdf(x =xnorm, loc=xbar, scale=sx)\n",
    "\n",
    "plt.plot(x, y, marker='.', linestyle='none')\n",
    "plt.xlabel('temperature')\n",
    "plt.ylabel('percentile')\n",
    "\n",
    "plt.plot(xnorm, ynorm,marker='.', linestyle='none', color='red', alpha=0.125)\n",
    "plt.margins(0.01)\n",
    "plt.show()"
   ]
  },
  {
   "cell_type": "markdown",
   "metadata": {},
   "source": [
    "A qq-plot of the data versus the normal distribution."
   ]
  },
  {
   "cell_type": "code",
   "execution_count": 7,
   "metadata": {},
   "outputs": [
    {
     "data": {
      "image/png": "[encoded data removed]",
      "text/plain": [
       "<Figure size 432x288 with 1 Axes>"
      ]
     },
     "metadata": {},
     "output_type": "display_data"
    }
   ],
   "source": [
    "sm.graphics.qqplot(df.temperature, line='s', color='green', alpha=0.5);"
   ]
  },
  {
   "cell_type": "markdown",
   "metadata": {},
   "source": [
    "Anderson-Darling Test for Normality: Body Temperature"
   ]
  },
  {
   "cell_type": "code",
   "execution_count": 8,
   "metadata": {},
   "outputs": [
    {
     "data": {
      "text/plain": [
       "(0.5201038826714921, 0.18292460444352898)"
      ]
     },
     "execution_count": 8,
     "metadata": {},
     "output_type": "execute_result"
    }
   ],
   "source": [
    "# overall\n",
    "sm.stats.diagnostic.normal_ad(df.temperature)"
   ]
  },
  {
   "cell_type": "markdown",
   "metadata": {},
   "source": [
    "Finally by the Anderson-Darling Tests, are p-values are all above 0.05, so we cannot reject the normality of the data (however, this test does not \"prove\" normality either).\n",
    "\n",
    "When considered collectively with the visual evidence above, the distribution of body temperature appears to be normal."
   ]
  },
  {
   "cell_type": "markdown",
   "metadata": {},
   "source": [
    "## 2. Is the sample size large? Are the observations independent?\n",
    "<ul>\n",
    "    <li> Remember that this is a condition for the Central Limit Theorem, and hence the statistical tests we are using, to apply.\n",
    "    </ul>\n"
   ]
  },
  {
   "cell_type": "markdown",
   "metadata": {},
   "source": [
    "<b><u>Answer:</u></b>\n",
    "    \n",
    "The sample size is 130 which is considered to be large (i.e. $n>30$) for the application of the Central Limit Theorem. The observations are also independent as each is taken from a separate person.\n",
    "    \n",
    "So since this distribution is large enough, its sample means will behave approximately normally due to the CLT. So it should be okay to use a $t-$test. A $z-$test may also give respectable results although the $t-$test will be more appropriate at smaller sample sizes."
   ]
  },
  {
   "cell_type": "markdown",
   "metadata": {
    "toc-hr-collapsed": false
   },
   "source": [
    "## 3. Is the true population mean really 98.6 degrees F?"
   ]
  },
  {
   "cell_type": "markdown",
   "metadata": {
    "toc-hr-collapsed": false
   },
   "source": [
    "<ul>\n",
    "    <li> First, try a bootstrap hypothesis test.\n",
    "    <li> Now, let's try frequentist statistical testing. Would you use a one-sample or two-sample test? Why?\n",
    "    <li> In this situation, is it appropriate to use the $t$ or $z$ statistic? \n",
    "    <li> Now try using the other test. How is the result be different? Why?\n",
    "</ul>"
   ]
  },
  {
   "cell_type": "markdown",
   "metadata": {},
   "source": [
    "First, a simple inspection of the summary statistic, mean, shows that the population mean for the body temperature may be below $98.6^{\\circ}F$."
   ]
  },
  {
   "cell_type": "code",
   "execution_count": 9,
   "metadata": {},
   "outputs": [
    {
     "name": "stdout",
     "output_type": "stream",
     "text": [
      "The mean temperature of the data is temp = 98.24923\n",
      "The standard deviation of the data is temp = 0.73318\n"
     ]
    }
   ],
   "source": [
    "temp_mean = df.temperature.mean()\n",
    "temp_std = df.temperature.std()\n",
    "\n",
    "print('The mean temperature of the data is temp = {:8.5f}'.format(temp_mean))\n",
    "print('The standard deviation of the data is temp = {:6.5f}'.format(temp_std))"
   ]
  },
  {
   "cell_type": "markdown",
   "metadata": {},
   "source": [
    "### Bootstrapping a confidence interval"
   ]
  },
  {
   "cell_type": "markdown",
   "metadata": {},
   "source": [
    "Here we create 10000 bootstrap replicates of the sample mean by sampling from the data using the `np.random.choice()` function.\n",
    "\n",
    "The function `bs_mean()` is defined to automate this process and then a loop is used to fill the values into the vector `bootstrap_means`."
   ]
  },
  {
   "cell_type": "code",
   "execution_count": 10,
   "metadata": {},
   "outputs": [],
   "source": [
    "def bs_mean(x, n=130):\n",
    "    \n",
    "    return np.random.choice(x, size=n).mean()\n",
    "\n",
    "bootstrap_means = np.empty(10000) # create 10000 means by resampling the data\n",
    "\n",
    "for i in range(10000):\n",
    "    \n",
    "    bootstrap_means[i] = bs_mean(df.temperature)\n",
    "    "
   ]
  },
  {
   "cell_type": "markdown",
   "metadata": {},
   "source": [
    "A 95% confidence interval using the bootstrap replicates provides some sense that the actual mean temperature from this data is unlikely (less than 5%) to be 98.6 degrees."
   ]
  },
  {
   "cell_type": "code",
   "execution_count": 11,
   "metadata": {},
   "outputs": [
    {
     "name": "stdout",
     "output_type": "stream",
     "text": [
      "[98.1231,98.3777]\n"
     ]
    }
   ],
   "source": [
    "x1,x2=np.percentile(bootstrap_means, [2.5, 97.5])\n",
    "\n",
    "print('[{:6.4f},{:6.4f}]'.format(x1,x2))"
   ]
  },
  {
   "cell_type": "markdown",
   "metadata": {},
   "source": [
    "Here is the corresponding histogram of the sample means from the bootstrap replicates (i.e. the sample means calculated through the resampling process)."
   ]
  },
  {
   "cell_type": "code",
   "execution_count": 12,
   "metadata": {},
   "outputs": [
    {
     "data": {
      "image/png": "[encoded data removed]",
      "text/plain": [
       "<Figure size 432x288 with 1 Axes>"
      ]
     },
     "metadata": {},
     "output_type": "display_data"
    }
   ],
   "source": [
    "sns.set()\n",
    "plt.hist(bootstrap_means,bins=20)\n",
    "plt.xlabel('Body Temperature')\n",
    "plt.ylabel('count')\n",
    "plt.title('Histogram of 10000 Bootstrap sample means\\n for Body Temperature\\n (using samples n=130)')\n",
    "plt.show();"
   ]
  },
  {
   "cell_type": "markdown",
   "metadata": {},
   "source": [
    "While this is not a hypothesis test, the fact that our 95% confidence interval by bootstrapping does not contain the mean value of 98.6 suggests that this is not in fact the true mean value."
   ]
  },
  {
   "cell_type": "markdown",
   "metadata": {},
   "source": [
    "Next the hypothesis that the mean is 98.6 degrees is checked by bootstrapping. \n",
    "\n",
    "$H_{0}:\\ \\mu=98.6^{\\circ}F$\n",
    "\n",
    "The $p$-value for this test will assess the probability of obtaining a sample mean as extreme as the value that we obtained assuming that $H_{0}$ is true. If the $p$-value is very small, then this leads to the rejection of $H_{0}$ since it would be so unlikely to have obtained our result."
   ]
  },
  {
   "cell_type": "markdown",
   "metadata": {},
   "source": [
    "Bootstrapping the hypothesis test amounts to sampling from our distribution under the assumption that the null hypothesis is true. \n",
    "\n",
    "The null hypothesis in this case is that the true population mean for body temperature is 98.6F. \n",
    "\n",
    "To achieve this, we create a bootstrap sample from our $n=130$ samples and shift the data so that it has a mean equivalent to the null hypothesis and then determine how likely it is for any data to have a mean at least as extreme as our observed value from the original sample of $n=130$."
   ]
  },
  {
   "cell_type": "markdown",
   "metadata": {},
   "source": [
    "First we adjust the sample data so that its true mean is 98.6."
   ]
  },
  {
   "cell_type": "code",
   "execution_count": 13,
   "metadata": {},
   "outputs": [],
   "source": [
    "xtemp_mod = df.temperature - temp_mean + 98.6"
   ]
  },
  {
   "cell_type": "code",
   "execution_count": 14,
   "metadata": {},
   "outputs": [],
   "source": [
    "# create 10000 means by resampling the data assuming h0 is true\n",
    "bootstrap_means_h0 = np.empty(10000) \n",
    "\n",
    "for i in range(10000):\n",
    "    \n",
    "    bootstrap_means_h0[i] = bs_mean(xtemp_mod)"
   ]
  },
  {
   "cell_type": "markdown",
   "metadata": {},
   "source": [
    "Now we count the results that are at least as extreme as our original mean value."
   ]
  },
  {
   "cell_type": "code",
   "execution_count": 15,
   "metadata": {},
   "outputs": [
    {
     "name": "stdout",
     "output_type": "stream",
     "text": [
      "Counting values where mean < 98.6 - d or mean > 98.6 + d\n",
      "d = |98.6 - xbar| = |98.6 - 98.2492| = 0.3508\n",
      "So only values outside of the interval (98.2492,98.9508)\n"
     ]
    }
   ],
   "source": [
    "xbar0 = df.temperature.mean()\n",
    "d = np.abs(98.6 - xbar0)\n",
    "\n",
    "print('Counting values where mean < 98.6 - d or mean > 98.6 + d')\n",
    "print('d = |98.6 - xbar| = |98.6 - {:6.4f}| = {:6.4f}'.format(xbar0, d))\n",
    "print('So only values outside of the interval ({:6.4f},{:6.4f})'.format(98.6-d, 98.6+d))"
   ]
  },
  {
   "cell_type": "code",
   "execution_count": 16,
   "metadata": {},
   "outputs": [
    {
     "data": {
      "text/plain": [
       "0"
      ]
     },
     "execution_count": 16,
     "metadata": {},
     "output_type": "execute_result"
    }
   ],
   "source": [
    "sum(bootstrap_means_h0<98.6-d) + sum(bootstrap_means_h0>98.6+d)"
   ]
  },
  {
   "cell_type": "markdown",
   "metadata": {},
   "source": [
    "Since there are no values more extreme then what we obtained, the $p$-value $\\approx0$ meaning it is\n",
    "essentially not possible for $H_{0}$ to be true and it would be rejected."
   ]
  },
  {
   "cell_type": "markdown",
   "metadata": {},
   "source": [
    "### T-test and Z-test"
   ]
  },
  {
   "cell_type": "markdown",
   "metadata": {},
   "source": [
    "Next the hypothesis is tested using one-sample $t$ and $z$ tests.\n",
    "\n",
    "It is appropriate to use $t$-test to test this Hypothesis. The underlying data appear to be normal but the standard deviation is unknown (we have a sample standard deviation which is not exactly the same thing).\n",
    "\n",
    "Also, this is a one-sample test as we are only comparing the measured value (body temperature) from the one group (with $n=130$)."
   ]
  },
  {
   "cell_type": "code",
   "execution_count": 17,
   "metadata": {},
   "outputs": [
    {
     "data": {
      "text/plain": [
       "Ttest_1sampResult(statistic=-5.4548232923645195, pvalue=2.4106320415561276e-07)"
      ]
     },
     "execution_count": 17,
     "metadata": {},
     "output_type": "execute_result"
    }
   ],
   "source": [
    "stats.ttest_1samp(df.temperature, 98.6)"
   ]
  },
  {
   "cell_type": "markdown",
   "metadata": {},
   "source": [
    "The $z$-test can also be used. In this case the assumption is being made that since the sample size is large (i.e. $n=130$) enough then the sample standard deviation $s$ is close enough to the population standard deviation that it can be considered to be known."
   ]
  },
  {
   "cell_type": "code",
   "execution_count": 18,
   "metadata": {},
   "outputs": [],
   "source": [
    "import statsmodels.stats.weightstats"
   ]
  },
  {
   "cell_type": "code",
   "execution_count": 19,
   "metadata": {},
   "outputs": [
    {
     "data": {
      "text/plain": [
       "(-5.4548232923645195, 4.9021570141012155e-08)"
      ]
     },
     "execution_count": 19,
     "metadata": {},
     "output_type": "execute_result"
    }
   ],
   "source": [
    "statsmodels.stats.weightstats.ztest(df.temperature, value=98.6, alternative='two-sided')"
   ]
  },
  {
   "cell_type": "markdown",
   "metadata": {},
   "source": [
    "In the both the $t$-test and $z$-test, the $p$-values obtained are very small so the null hypothesis that the mean temperature is 98.6 is rejected.\n",
    "\n",
    "In the $z$-test, the $p$-value is smaller because the normal distribution typically has smaller tails than the $t$-distribution."
   ]
  },
  {
   "cell_type": "markdown",
   "metadata": {},
   "source": [
    "## 4. Draw a small sample of size 10 from the data and repeat both frequentist tests. \n",
    "<ul>\n",
    "    <li> Which one is the correct one to use? \n",
    "    <li> What do you notice? What does this tell you about the difference in application of the $t$ and $z$ statistic?\n",
    "</ul>\n"
   ]
  },
  {
   "cell_type": "code",
   "execution_count": 20,
   "metadata": {},
   "outputs": [
    {
     "name": "stdout",
     "output_type": "stream",
     "text": [
      "98.48\n"
     ]
    },
    {
     "data": {
      "image/png": "[encoded data removed]",
      "text/plain": [
       "<Figure size 432x288 with 1 Axes>"
      ]
     },
     "metadata": {},
     "output_type": "display_data"
    }
   ],
   "source": [
    "small_temp = np.random.choice(df.temperature, size=10)\n",
    "plt.hist(small_temp)\n",
    "print(small_temp.mean())"
   ]
  },
  {
   "cell_type": "code",
   "execution_count": 21,
   "metadata": {},
   "outputs": [
    {
     "data": {
      "text/plain": [
       "Ttest_1sampResult(statistic=-0.6123724356957458, pvalue=0.5554454421056163)"
      ]
     },
     "execution_count": 21,
     "metadata": {},
     "output_type": "execute_result"
    }
   ],
   "source": [
    "stats.ttest_1samp(small_temp, 98.6)"
   ]
  },
  {
   "cell_type": "code",
   "execution_count": 22,
   "metadata": {},
   "outputs": [
    {
     "data": {
      "text/plain": [
       "(-0.612372435695746, 0.540291374607452)"
      ]
     },
     "execution_count": 22,
     "metadata": {},
     "output_type": "execute_result"
    }
   ],
   "source": [
    "statsmodels.stats.weightstats.ztest(small_temp, value=98.6, alternative='two-sided')"
   ]
  },
  {
   "cell_type": "markdown",
   "metadata": {},
   "source": [
    "In both of these cases, the $p$-value is not small enough to reject the null hypothesis. The $t$-test in particular has a larger $p$-value again because of the larger tails which is accentuated in this case by using a small sample size of $n=10$.\n",
    "\n",
    "It is more important with smaller samples to use the $t$-test as the larger tails help account for not knowing the true standard deviation of the distribution."
   ]
  },
  {
   "cell_type": "markdown",
   "metadata": {},
   "source": [
    "## 5. At what temperature should we consider someone's temperature to be \"abnormal\"?\n",
    "<ul>\n",
    "    <li> As in the previous example, try calculating everything using the boostrap approach, as well as the frequentist approach.\n",
    "    <li> Start by computing the margin of error and confidence interval. When calculating the confidence interval, keep in mind that you should use the appropriate formula for one draw, and not N draws.\n",
    "</ul>\n"
   ]
  },
  {
   "cell_type": "markdown",
   "metadata": {},
   "source": [
    "From above, the bootstrap confidence interval we found was [98.1215, 98.3739]. Anything outside this interval would be considered abnormal."
   ]
  },
  {
   "cell_type": "code",
   "execution_count": 23,
   "metadata": {},
   "outputs": [
    {
     "name": "stdout",
     "output_type": "stream",
     "text": [
      "[98.1231,98.3777]\n"
     ]
    }
   ],
   "source": [
    "x1,x2=np.percentile(bootstrap_means, [2.5, 97.5])\n",
    "\n",
    "print('[{:6.4f},{:6.4f}]'.format(x1,x2))"
   ]
  },
  {
   "cell_type": "markdown",
   "metadata": {},
   "source": [
    "### Using a $t$ confidence interval:"
   ]
  },
  {
   "cell_type": "code",
   "execution_count": 24,
   "metadata": {},
   "outputs": [],
   "source": [
    "#stats.t.cdf and stats.t.ppf\n",
    "#?stats.t.ppf"
   ]
  },
  {
   "cell_type": "code",
   "execution_count": 25,
   "metadata": {},
   "outputs": [
    {
     "name": "stdout",
     "output_type": "stream",
     "text": [
      "98.24923076923078\n",
      "0.7331831580389454\n"
     ]
    },
    {
     "data": {
      "text/plain": [
       "130"
      ]
     },
     "execution_count": 25,
     "metadata": {},
     "output_type": "execute_result"
    }
   ],
   "source": [
    "print(temp_mean)\n",
    "print(temp_std)\n",
    "sample_size=df.temperature.size\n",
    "sample_size"
   ]
  },
  {
   "cell_type": "code",
   "execution_count": 26,
   "metadata": {},
   "outputs": [
    {
     "name": "stdout",
     "output_type": "stream",
     "text": [
      "1.9785244914586055\n",
      "(98.122003,98.376459)\n"
     ]
    }
   ],
   "source": [
    "crit_t = abs(stats.t.ppf(0.025, df=sample_size-1))\n",
    "print(crit_t)\n",
    "\n",
    "xt1 = temp_mean - crit_t*temp_std/sample_size**0.5\n",
    "xt2 = temp_mean + crit_t*temp_std/sample_size**0.5\n",
    "\n",
    "print('({:f},{:f})'.format(xt1,xt2))"
   ]
  },
  {
   "cell_type": "markdown",
   "metadata": {},
   "source": [
    "### Using a $z$ confidence interval"
   ]
  },
  {
   "cell_type": "code",
   "execution_count": 27,
   "metadata": {},
   "outputs": [],
   "source": [
    "#stats.norm.cdf and stats.norm.ppf\n",
    "#?stats.norm.ppf"
   ]
  },
  {
   "cell_type": "code",
   "execution_count": 28,
   "metadata": {},
   "outputs": [
    {
     "name": "stdout",
     "output_type": "stream",
     "text": [
      "1.959963984540054\n",
      "(98.123196,98.375265)\n"
     ]
    }
   ],
   "source": [
    "crit_z = abs(stats.norm.ppf(0.975))\n",
    "print(crit_z)\n",
    "\n",
    "E = crit_z*temp_std/sample_size**0.5\n",
    "\n",
    "xz1 = temp_mean - E\n",
    "xz2 = temp_mean + E\n",
    "\n",
    "print('({:f},{:f})'.format(xz1,xz2))"
   ]
  },
  {
   "cell_type": "markdown",
   "metadata": {},
   "source": [
    "## 6. Is there a significant difference between males and females in normal temperature?\n",
    "<ul>\n",
    "    <li> What testing approach did you use and why?\n",
    "    <li> Write a story with your conclusion in the context of the original problem.\n",
    "</ul>"
   ]
  },
  {
   "cell_type": "markdown",
   "metadata": {},
   "source": [
    "<b><u>Answer:</u></b><br>\n",
    "First, we compare the temperatures for the different genders by looking at their summary statistics using `describe()` and some boxplots."
   ]
  },
  {
   "cell_type": "code",
   "execution_count": 29,
   "metadata": {},
   "outputs": [
    {
     "data": {
      "text/plain": [
       "F    65\n",
       "M    65\n",
       "Name: gender, dtype: int64"
      ]
     },
     "execution_count": 29,
     "metadata": {},
     "output_type": "execute_result"
    }
   ],
   "source": [
    "df.gender.value_counts()"
   ]
  },
  {
   "cell_type": "markdown",
   "metadata": {},
   "source": [
    "**Boxplots of Male and Female Temperature data for comparison**"
   ]
  },
  {
   "cell_type": "markdown",
   "metadata": {},
   "source": [
    "**Summary of male (M) data**"
   ]
  },
  {
   "cell_type": "code",
   "execution_count": 30,
   "metadata": {},
   "outputs": [
    {
     "data": {
      "text/html": [
       "<div>\n",
       "<style scoped>\n",
       "    .dataframe tbody tr th:only-of-type {\n",
       "        vertical-align: middle;\n",
       "    }\n",
       "\n",
       "    .dataframe tbody tr th {\n",
       "        vertical-align: top;\n",
       "    }\n",
       "\n",
       "    .dataframe thead th {\n",
       "        text-align: right;\n",
       "    }\n",
       "</style>\n",
       "<table border=\"1\" class=\"dataframe\">\n",
       "  <thead>\n",
       "    <tr style=\"text-align: right;\">\n",
       "      <th></th>\n",
       "      <th>temperature</th>\n",
       "      <th>heart_rate</th>\n",
       "    </tr>\n",
       "  </thead>\n",
       "  <tbody>\n",
       "    <tr>\n",
       "      <th>count</th>\n",
       "      <td>65.000000</td>\n",
       "      <td>65.000000</td>\n",
       "    </tr>\n",
       "    <tr>\n",
       "      <th>mean</th>\n",
       "      <td>98.104615</td>\n",
       "      <td>73.369231</td>\n",
       "    </tr>\n",
       "    <tr>\n",
       "      <th>std</th>\n",
       "      <td>0.698756</td>\n",
       "      <td>5.875184</td>\n",
       "    </tr>\n",
       "    <tr>\n",
       "      <th>min</th>\n",
       "      <td>96.300000</td>\n",
       "      <td>58.000000</td>\n",
       "    </tr>\n",
       "    <tr>\n",
       "      <th>25%</th>\n",
       "      <td>97.600000</td>\n",
       "      <td>70.000000</td>\n",
       "    </tr>\n",
       "    <tr>\n",
       "      <th>50%</th>\n",
       "      <td>98.100000</td>\n",
       "      <td>73.000000</td>\n",
       "    </tr>\n",
       "    <tr>\n",
       "      <th>75%</th>\n",
       "      <td>98.600000</td>\n",
       "      <td>78.000000</td>\n",
       "    </tr>\n",
       "    <tr>\n",
       "      <th>max</th>\n",
       "      <td>99.500000</td>\n",
       "      <td>86.000000</td>\n",
       "    </tr>\n",
       "  </tbody>\n",
       "</table>\n",
       "</div>"
      ],
      "text/plain": [
       "       temperature  heart_rate\n",
       "count    65.000000   65.000000\n",
       "mean     98.104615   73.369231\n",
       "std       0.698756    5.875184\n",
       "min      96.300000   58.000000\n",
       "25%      97.600000   70.000000\n",
       "50%      98.100000   73.000000\n",
       "75%      98.600000   78.000000\n",
       "max      99.500000   86.000000"
      ]
     },
     "execution_count": 30,
     "metadata": {},
     "output_type": "execute_result"
    }
   ],
   "source": [
    "df[df.gender=='M'].describe()"
   ]
  },
  {
   "cell_type": "markdown",
   "metadata": {},
   "source": [
    "**Summary of female (F) data**"
   ]
  },
  {
   "cell_type": "code",
   "execution_count": 31,
   "metadata": {},
   "outputs": [
    {
     "data": {
      "text/html": [
       "<div>\n",
       "<style scoped>\n",
       "    .dataframe tbody tr th:only-of-type {\n",
       "        vertical-align: middle;\n",
       "    }\n",
       "\n",
       "    .dataframe tbody tr th {\n",
       "        vertical-align: top;\n",
       "    }\n",
       "\n",
       "    .dataframe thead th {\n",
       "        text-align: right;\n",
       "    }\n",
       "</style>\n",
       "<table border=\"1\" class=\"dataframe\">\n",
       "  <thead>\n",
       "    <tr style=\"text-align: right;\">\n",
       "      <th></th>\n",
       "      <th>temperature</th>\n",
       "      <th>heart_rate</th>\n",
       "    </tr>\n",
       "  </thead>\n",
       "  <tbody>\n",
       "    <tr>\n",
       "      <th>count</th>\n",
       "      <td>65.000000</td>\n",
       "      <td>65.000000</td>\n",
       "    </tr>\n",
       "    <tr>\n",
       "      <th>mean</th>\n",
       "      <td>98.393846</td>\n",
       "      <td>74.153846</td>\n",
       "    </tr>\n",
       "    <tr>\n",
       "      <th>std</th>\n",
       "      <td>0.743488</td>\n",
       "      <td>8.105227</td>\n",
       "    </tr>\n",
       "    <tr>\n",
       "      <th>min</th>\n",
       "      <td>96.400000</td>\n",
       "      <td>57.000000</td>\n",
       "    </tr>\n",
       "    <tr>\n",
       "      <th>25%</th>\n",
       "      <td>98.000000</td>\n",
       "      <td>68.000000</td>\n",
       "    </tr>\n",
       "    <tr>\n",
       "      <th>50%</th>\n",
       "      <td>98.400000</td>\n",
       "      <td>76.000000</td>\n",
       "    </tr>\n",
       "    <tr>\n",
       "      <th>75%</th>\n",
       "      <td>98.800000</td>\n",
       "      <td>80.000000</td>\n",
       "    </tr>\n",
       "    <tr>\n",
       "      <th>max</th>\n",
       "      <td>100.800000</td>\n",
       "      <td>89.000000</td>\n",
       "    </tr>\n",
       "  </tbody>\n",
       "</table>\n",
       "</div>"
      ],
      "text/plain": [
       "       temperature  heart_rate\n",
       "count    65.000000   65.000000\n",
       "mean     98.393846   74.153846\n",
       "std       0.743488    8.105227\n",
       "min      96.400000   57.000000\n",
       "25%      98.000000   68.000000\n",
       "50%      98.400000   76.000000\n",
       "75%      98.800000   80.000000\n",
       "max     100.800000   89.000000"
      ]
     },
     "execution_count": 31,
     "metadata": {},
     "output_type": "execute_result"
    }
   ],
   "source": [
    "df[df.gender=='F'].describe()"
   ]
  },
  {
   "cell_type": "markdown",
   "metadata": {},
   "source": [
    "From the summary statistics, it appears that the mean body temperature for females is higher than for males. We confirm this initial assessment visually using boxplots."
   ]
  },
  {
   "cell_type": "code",
   "execution_count": 11,
   "metadata": {},
   "outputs": [
    {
     "data": {
      "image/png": "[encoded data removed]",
      "text/plain": [
       "<Figure size 432x288 with 1 Axes>"
      ]
     },
     "metadata": {
      "needs_background": "light"
     },
     "output_type": "display_data"
    }
   ],
   "source": [
    "# need to label axes and title\n",
    "#df.loc[:,['temperature']].plot(kind='box',by=df.gender);\n",
    "sns.boxplot(y='temperature',x='gender',data=df)\n",
    "plt.title('Boxplot of Temperatures (by Gender)')\n",
    "plt.show()"
   ]
  },
  {
   "cell_type": "markdown",
   "metadata": {},
   "source": [
    "Looking at the boxplots of the body temperatures by gender, it does appear that the female temperatures are a bit higher than the males."
   ]
  },
  {
   "cell_type": "markdown",
   "metadata": {},
   "source": [
    "Before running any tests, the normality of the data for the two genders is inspected. Since the overall data was found to be essentially normal before, here some histograms of the two genders are checked to confirm this result."
   ]
  },
  {
   "cell_type": "code",
   "execution_count": 46,
   "metadata": {},
   "outputs": [
    {
     "data": {
      "image/png": "[encoded data removed]",
      "text/plain": [
       "<Figure size 576x432 with 4 Axes>"
      ]
     },
     "metadata": {},
     "output_type": "display_data"
    }
   ],
   "source": [
    "# data for male measurements only\n",
    "plt.subplots(2,2,figsize=(8,6));\n",
    "for (pos,num) in enumerate(binlist):\n",
    "    plt.subplot(2,2,pos+1)\n",
    "    plt.hist(x='temperature',data=df[df.gender=='M'],bins=num,alpha=0.75,color='#0044ff')\n",
    "    #plt.hist(x='temperature',data=df[df.gender=='F'],bins=num,alpha=0.5,color='red')\n",
    "    plt.xlabel('temperature')\n",
    "    plt.ylabel('count')\n",
    "    plt.title('bins={:d}'.format(num))\n",
    "\n",
    "plt.subplots_adjust(hspace=0.5,wspace=0.25)\n",
    "plt.suptitle('Male Body Temperature Distribution\\n (different bin sizes)')\n",
    "plt.show()"
   ]
  },
  {
   "cell_type": "code",
   "execution_count": 50,
   "metadata": {},
   "outputs": [
    {
     "data": {
      "image/png": "[encoded data removed]",
      "text/plain": [
       "<Figure size 576x432 with 4 Axes>"
      ]
     },
     "metadata": {},
     "output_type": "display_data"
    }
   ],
   "source": [
    "# data for female measurements only\n",
    "plt.subplots(2,2,figsize=(8,6));\n",
    "for (pos,num) in enumerate(binlist):\n",
    "    plt.subplot(2,2,pos+1)\n",
    "    #plt.hist(x='temperature',data=df[df.gender=='M'],bins=num,alpha=0.75,color='#0044ff')\n",
    "    plt.hist(x='temperature',data=df[df.gender=='F'],bins=num,alpha=0.5,color='#ff4400')\n",
    "    plt.xlabel('temperature')\n",
    "    plt.ylabel('count')\n",
    "    plt.title('bins={:d}'.format(num))\n",
    "\n",
    "plt.subplots_adjust(hspace=0.5, wspace=0.25)\n",
    "#plt.tight_layout() # sometimes works\n",
    "plt.suptitle('Female Body Temperature Distribution\\n (different bin sizes)')\n",
    "plt.show()"
   ]
  },
  {
   "cell_type": "markdown",
   "metadata": {},
   "source": [
    "The histograms of the separate male and female data appear to be normal or close to normal. This is confimred by the Anderson-Darling tests using `sm.stats.diagnostic.normal_ad()`."
   ]
  },
  {
   "cell_type": "code",
   "execution_count": 27,
   "metadata": {},
   "outputs": [
    {
     "data": {
      "text/plain": [
       "(0.20825514476280205, 0.8592246616111768)"
      ]
     },
     "execution_count": 27,
     "metadata": {},
     "output_type": "execute_result"
    }
   ],
   "source": [
    "# male data\n",
    "sm.stats.diagnostic.normal_ad(df[df.gender=='M'].temperature)"
   ]
  },
  {
   "cell_type": "code",
   "execution_count": 28,
   "metadata": {},
   "outputs": [
    {
     "data": {
      "text/plain": [
       "(0.6895675921648916, 0.06846020589810857)"
      ]
     },
     "execution_count": 28,
     "metadata": {},
     "output_type": "execute_result"
    }
   ],
   "source": [
    "# female data\n",
    "sm.stats.diagnostic.normal_ad(df[df.gender=='F'].temperature)"
   ]
  },
  {
   "cell_type": "markdown",
   "metadata": {},
   "source": [
    "In both gender cases, the $p$-value is **not** small enough (i.e. $<0.05$) to warrant rejecting the normality of the two distributions."
   ]
  },
  {
   "cell_type": "markdown",
   "metadata": {},
   "source": [
    "Also, it is safe to assume that the data are independent since there is no apparent relationship between the two sets of gender data.\n",
    "\n",
    "Next, two sample $t$-tests are used to determine if they are the in fact different means.\n",
    "\n",
    "More precisely, the $p$-value of the $t$-test will help determine whether we can reject the null hypothesis that\n",
    "the means are the same:<br>\n",
    "$H_{0}:\\ \\mu_{F} = \\mu_{M}$"
   ]
  },
  {
   "cell_type": "code",
   "execution_count": 34,
   "metadata": {},
   "outputs": [
    {
     "data": {
      "text/plain": [
       "Ttest_indResult(statistic=2.2854345381656103, pvalue=0.02393188312239561)"
      ]
     },
     "execution_count": 34,
     "metadata": {},
     "output_type": "execute_result"
    }
   ],
   "source": [
    "stats.ttest_ind(df[df.gender=='F'].temperature, df[df.gender=='M'].temperature)"
   ]
  },
  {
   "cell_type": "markdown",
   "metadata": {},
   "source": [
    "The $p$-value is below the usual threshhold of 0.05. Since a small $p$-value means it is unlikely to have gotten a more extreme difference between the means, we can safely reject the null hypothesis. In other words, sufficient evidence to support the claim that the mean body temperature between the genders has been found. In this case, it would appear that the average body temperature for females is higher than the average body temperature for males.\n",
    "\n",
    "**Summary:** The body temperatures of the two genders are *not* the same (with a $p$-value of 0.02393188312239561)."
   ]
  },
  {
   "cell_type": "code",
   "execution_count": null,
   "metadata": {},
   "outputs": [],
   "source": []
  },
  {
   "cell_type": "code",
   "execution_count": null,
   "metadata": {},
   "outputs": [],
   "source": []
  },
  {
   "cell_type": "code",
   "execution_count": null,
   "metadata": {},
   "outputs": [],
   "source": []
  },
  {
   "cell_type": "code",
   "execution_count": null,
   "metadata": {},
   "outputs": [],
   "source": []
  },
  {
   "cell_type": "code",
   "execution_count": null,
   "metadata": {},
   "outputs": [],
   "source": []
  }
 ],
 "metadata": {
  "kernelspec": {
   "display_name": "Python 3",
   "language": "python",
   "name": "python3"
  },
  "language_info": {
   "codemirror_mode": {
    "name": "ipython",
    "version": 3
   },
   "file_extension": ".py",
   "mimetype": "text/x-python",
   "name": "python",
   "nbconvert_exporter": "python",
   "pygments_lexer": "ipython3",
   "version": "3.7.3"
  },
  "toc-showcode": false
 },
 "nbformat": 4,
 "nbformat_minor": 4
}
